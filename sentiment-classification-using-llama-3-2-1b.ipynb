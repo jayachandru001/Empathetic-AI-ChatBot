{
 "cells": [
  {
   "cell_type": "markdown",
   "id": "530b814f",
   "metadata": {
    "papermill": {
     "duration": 0.012548,
     "end_time": "2024-12-03T18:38:54.379934",
     "exception": false,
     "start_time": "2024-12-03T18:38:54.367386",
     "status": "completed"
    },
    "tags": []
   },
   "source": [
    "# <div style=\"padding: 30px;color:white;margin:10;font-size:100%;text-align:left;display:fill;border-radius:10px;overflow:hidden;background-color:#1496bb\"><b><span style='color:#F1A424'>Project |</span></b> <b>Emotional Sentiment Analysis and Adaptive Response System</b></div>"
   ]
  },
  {
   "cell_type": "markdown",
   "id": "7785492b",
   "metadata": {
    "papermill": {
     "duration": 0.0105,
     "end_time": "2024-12-03T18:38:54.400938",
     "exception": false,
     "start_time": "2024-12-03T18:38:54.390438",
     "status": "completed"
    },
    "tags": []
   },
   "source": [
    "# <div style=\"padding: 30px;color:white;margin:10;font-size:100%;text-align:center;display:fill;border-radius:10px;overflow:hidden;background-color:rgb(120, 120, 199)\"><b><span style='color:#F1A424'>Part 1 |</span></b> <b>Sentiment Classification using Llama 3.2</b></div>"
   ]
  },
  {
   "cell_type": "markdown",
   "id": "d23bb125",
   "metadata": {
    "papermill": {
     "duration": 0.009948,
     "end_time": "2024-12-03T18:38:54.421153",
     "exception": false,
     "start_time": "2024-12-03T18:38:54.411205",
     "status": "completed"
    },
    "tags": []
   },
   "source": [
    "# <div style=\"padding: 30px;color:white;margin:10;font-size:100%;text-align:center;display:fill;border-radius:10px;overflow:hidden;background-color:rgb(120, 120, 199)\"><b>Neutral, Positive, Negative</b></div>"
   ]
  },
  {
   "cell_type": "markdown",
   "id": "f745a0e5",
   "metadata": {
    "papermill": {
     "duration": 0.009564,
     "end_time": "2024-12-03T18:38:54.440370",
     "exception": false,
     "start_time": "2024-12-03T18:38:54.430806",
     "status": "completed"
    },
    "tags": []
   },
   "source": [
    "# <div style=\"padding: 30px;color:white;margin:10;font-size:60%;text-align:left;display:fill;border-radius:10px;overflow:hidden;background-color:#1496bb\"><b><span style='color:#F1A424'>1 |</span></b> <b>INSTALL AND IMPORT REQUIRED LIBRARIES</b></div>"
   ]
  },
  {
   "cell_type": "code",
   "execution_count": 1,
   "id": "86fcc79d",
   "metadata": {
    "execution": {
     "iopub.execute_input": "2024-12-03T18:38:54.461350Z",
     "iopub.status.busy": "2024-12-03T18:38:54.460949Z",
     "iopub.status.idle": "2024-12-03T18:40:20.311240Z",
     "shell.execute_reply": "2024-12-03T18:40:20.310161Z"
    },
    "papermill": {
     "duration": 85.863288,
     "end_time": "2024-12-03T18:40:20.313193",
     "exception": false,
     "start_time": "2024-12-03T18:38:54.449905",
     "status": "completed"
    },
    "tags": []
   },
   "outputs": [],
   "source": [
    "import os\n",
    "os.environ[\"TOKENIZERS_PARALLELISM\"] = \"false\"\n",
    "\n",
    "from IPython.display import clear_output\n",
    "!pip install peft==0.8.2\n",
    "!pip install bitsandbytes==0.44.1\n",
    "!pip install accelerate==0.34.2\n",
    "!pip install datasets==2.16.1\n",
    "!pip install GPUtil\n",
    "!pip install transformers==4.43.1\n",
    "!pip install seaborn\n",
    "\n",
    "clear_output()"
   ]
  },
  {
   "cell_type": "code",
   "execution_count": 2,
   "id": "b1899738",
   "metadata": {
    "execution": {
     "iopub.execute_input": "2024-12-03T18:40:20.337525Z",
     "iopub.status.busy": "2024-12-03T18:40:20.337151Z",
     "iopub.status.idle": "2024-12-03T18:40:20.341608Z",
     "shell.execute_reply": "2024-12-03T18:40:20.340744Z"
    },
    "papermill": {
     "duration": 0.018755,
     "end_time": "2024-12-03T18:40:20.343384",
     "exception": false,
     "start_time": "2024-12-03T18:40:20.324629",
     "status": "completed"
    },
    "tags": []
   },
   "outputs": [],
   "source": [
    "# !pip install trl"
   ]
  },
  {
   "cell_type": "code",
   "execution_count": 3,
   "id": "b44da768",
   "metadata": {
    "execution": {
     "iopub.execute_input": "2024-12-03T18:40:20.366511Z",
     "iopub.status.busy": "2024-12-03T18:40:20.366192Z",
     "iopub.status.idle": "2024-12-03T18:40:40.308274Z",
     "shell.execute_reply": "2024-12-03T18:40:40.307527Z"
    },
    "papermill": {
     "duration": 19.955928,
     "end_time": "2024-12-03T18:40:40.310454",
     "exception": false,
     "start_time": "2024-12-03T18:40:20.354526",
     "status": "completed"
    },
    "tags": []
   },
   "outputs": [],
   "source": [
    "import os\n",
    "import pandas as pd \n",
    "import tqdm\n",
    "import bitsandbytes as bnb \n",
    "import transformers\n",
    "from datasets import load_dataset, load, Dataset, DatasetDict\n",
    "from peft import LoraConfig, PeftConfig, PeftModel\n",
    "from sklearn.metrics import (accuracy_score, \n",
    "                             classification_report, \n",
    "                             confusion_matrix)\n",
    "from transformers import (AutoModelForCausalLM, \n",
    "                          AutoTokenizer, \n",
    "                          BitsAndBytesConfig, \n",
    "                          TrainingArguments, \n",
    "                          pipeline, \n",
    "                          logging)"
   ]
  },
  {
   "cell_type": "code",
   "execution_count": 4,
   "id": "7c5c17d8",
   "metadata": {
    "execution": {
     "iopub.execute_input": "2024-12-03T18:40:40.334485Z",
     "iopub.status.busy": "2024-12-03T18:40:40.333830Z",
     "iopub.status.idle": "2024-12-03T18:41:07.840322Z",
     "shell.execute_reply": "2024-12-03T18:41:07.839086Z"
    },
    "papermill": {
     "duration": 27.521091,
     "end_time": "2024-12-03T18:41:07.842556",
     "exception": false,
     "start_time": "2024-12-03T18:40:40.321465",
     "status": "completed"
    },
    "tags": []
   },
   "outputs": [],
   "source": [
    "!pip install kagglehub\n",
    "!pip install gdown\n",
    "!pip install contractions\n",
    "clear_output()"
   ]
  },
  {
   "cell_type": "code",
   "execution_count": 5,
   "id": "e6f51f67",
   "metadata": {
    "execution": {
     "iopub.execute_input": "2024-12-03T18:41:07.865430Z",
     "iopub.status.busy": "2024-12-03T18:41:07.865058Z",
     "iopub.status.idle": "2024-12-03T18:41:08.127066Z",
     "shell.execute_reply": "2024-12-03T18:41:08.126317Z"
    },
    "papermill": {
     "duration": 0.276149,
     "end_time": "2024-12-03T18:41:08.129316",
     "exception": false,
     "start_time": "2024-12-03T18:41:07.853167",
     "status": "completed"
    },
    "tags": []
   },
   "outputs": [],
   "source": [
    "from kaggle_secrets import UserSecretsClient\n",
    "user_secrets = UserSecretsClient()\n",
    "secret_value_0 = user_secrets.get_secret(\"GOOGLE_API_KEY\")\n",
    "secret_value_1 = user_secrets.get_secret(\"HF_TOKEN\")\n",
    "secret_value_2 = user_secrets.get_secret(\"KAGGLE\")"
   ]
  },
  {
   "cell_type": "markdown",
   "id": "ce94e809",
   "metadata": {
    "papermill": {
     "duration": 0.010583,
     "end_time": "2024-12-03T18:41:08.151736",
     "exception": false,
     "start_time": "2024-12-03T18:41:08.141153",
     "status": "completed"
    },
    "tags": []
   },
   "source": [
    "# <div style=\"padding: 30px;color:white;margin:10;font-size:60%;text-align:left;display:fill;border-radius:10px;overflow:hidden;background-color:#1496bb\"><b><span style='color:#F1A424'>2 |</span></b> <b>PREPROCESS DATASET</b></div>"
   ]
  },
  {
   "cell_type": "code",
   "execution_count": 6,
   "id": "57f66f42",
   "metadata": {
    "execution": {
     "iopub.execute_input": "2024-12-03T18:41:08.175780Z",
     "iopub.status.busy": "2024-12-03T18:41:08.175008Z",
     "iopub.status.idle": "2024-12-03T18:41:08.517581Z",
     "shell.execute_reply": "2024-12-03T18:41:08.516820Z"
    },
    "papermill": {
     "duration": 0.357054,
     "end_time": "2024-12-03T18:41:08.519901",
     "exception": false,
     "start_time": "2024-12-03T18:41:08.162847",
     "status": "completed"
    },
    "tags": []
   },
   "outputs": [],
   "source": [
    "import kagglehub\n",
    "import matplotlib.pyplot as plt\n",
    "import seaborn as sns\n",
    "import numpy as np"
   ]
  },
  {
   "cell_type": "code",
   "execution_count": 7,
   "id": "9eead201",
   "metadata": {
    "execution": {
     "iopub.execute_input": "2024-12-03T18:41:08.541473Z",
     "iopub.status.busy": "2024-12-03T18:41:08.540937Z",
     "iopub.status.idle": "2024-12-03T18:41:08.606237Z",
     "shell.execute_reply": "2024-12-03T18:41:08.605592Z"
    },
    "papermill": {
     "duration": 0.077775,
     "end_time": "2024-12-03T18:41:08.607981",
     "exception": false,
     "start_time": "2024-12-03T18:41:08.530206",
     "status": "completed"
    },
    "tags": []
   },
   "outputs": [],
   "source": [
    "sentimental_analysis_dataset_path = kagglehub.dataset_download('jayachandruk/sentimental-analysis-dataset')"
   ]
  },
  {
   "cell_type": "code",
   "execution_count": 8,
   "id": "f3003fa8",
   "metadata": {
    "execution": {
     "iopub.execute_input": "2024-12-03T18:41:08.629767Z",
     "iopub.status.busy": "2024-12-03T18:41:08.629433Z",
     "iopub.status.idle": "2024-12-03T18:41:08.655147Z",
     "shell.execute_reply": "2024-12-03T18:41:08.654082Z"
    },
    "papermill": {
     "duration": 0.038669,
     "end_time": "2024-12-03T18:41:08.657050",
     "exception": false,
     "start_time": "2024-12-03T18:41:08.618381",
     "status": "completed"
    },
    "tags": []
   },
   "outputs": [
    {
     "name": "stdout",
     "output_type": "stream",
     "text": [
      "/kaggle/input/sentimental-analysis-dataset/train.csv\n",
      "/kaggle/input/sentimental-analysis-dataset/test.csv\n",
      "/kaggle/input/llama-3.2/transformers/1b/1/config.json\n",
      "/kaggle/input/llama-3.2/transformers/1b/1/README.md\n",
      "/kaggle/input/llama-3.2/transformers/1b/1/USE_POLICY.md\n",
      "/kaggle/input/llama-3.2/transformers/1b/1/tokenizer.json\n",
      "/kaggle/input/llama-3.2/transformers/1b/1/tokenizer_config.json\n",
      "/kaggle/input/llama-3.2/transformers/1b/1/LICENSE.txt\n",
      "/kaggle/input/llama-3.2/transformers/1b/1/model.safetensors\n",
      "/kaggle/input/llama-3.2/transformers/1b/1/special_tokens_map.json\n",
      "/kaggle/input/llama-3.2/transformers/1b/1/.gitattributes\n",
      "/kaggle/input/llama-3.2/transformers/1b/1/generation_config.json\n"
     ]
    }
   ],
   "source": [
    "import os\n",
    "for dirname, _, filenames in os.walk('/kaggle/input'):\n",
    "    for filename in filenames:\n",
    "        print(os.path.join(dirname, filename))"
   ]
  },
  {
   "cell_type": "code",
   "execution_count": 9,
   "id": "568a2041",
   "metadata": {
    "execution": {
     "iopub.execute_input": "2024-12-03T18:41:08.684495Z",
     "iopub.status.busy": "2024-12-03T18:41:08.684142Z",
     "iopub.status.idle": "2024-12-03T18:41:08.853570Z",
     "shell.execute_reply": "2024-12-03T18:41:08.852173Z"
    },
    "papermill": {
     "duration": 0.184121,
     "end_time": "2024-12-03T18:41:08.856234",
     "exception": false,
     "start_time": "2024-12-03T18:41:08.672113",
     "status": "completed"
    },
    "tags": []
   },
   "outputs": [],
   "source": [
    "df_train = pd.read_csv(\"/kaggle/input/sentimental-analysis-dataset/train.csv\")\n",
    "df_test = pd.read_csv(\"/kaggle/input/sentimental-analysis-dataset/test.csv\")"
   ]
  },
  {
   "cell_type": "code",
   "execution_count": 10,
   "id": "852128fc",
   "metadata": {
    "execution": {
     "iopub.execute_input": "2024-12-03T18:41:08.890041Z",
     "iopub.status.busy": "2024-12-03T18:41:08.888668Z",
     "iopub.status.idle": "2024-12-03T18:41:08.894222Z",
     "shell.execute_reply": "2024-12-03T18:41:08.893335Z"
    },
    "papermill": {
     "duration": 0.026958,
     "end_time": "2024-12-03T18:41:08.896120",
     "exception": false,
     "start_time": "2024-12-03T18:41:08.869162",
     "status": "completed"
    },
    "tags": []
   },
   "outputs": [],
   "source": [
    "label2id = {\n",
    "    \"neutral\": 0,\n",
    "    \"positive\": 1,\n",
    "    \"negative\": 2\n",
    "}"
   ]
  },
  {
   "cell_type": "code",
   "execution_count": 11,
   "id": "78ae88b3",
   "metadata": {
    "execution": {
     "iopub.execute_input": "2024-12-03T18:41:08.918488Z",
     "iopub.status.busy": "2024-12-03T18:41:08.918215Z",
     "iopub.status.idle": "2024-12-03T18:41:08.922491Z",
     "shell.execute_reply": "2024-12-03T18:41:08.921601Z"
    },
    "papermill": {
     "duration": 0.017656,
     "end_time": "2024-12-03T18:41:08.924338",
     "exception": false,
     "start_time": "2024-12-03T18:41:08.906682",
     "status": "completed"
    },
    "tags": []
   },
   "outputs": [],
   "source": [
    "id2label = {\n",
    "    0 : \"neutral\",\n",
    "    1 : \"positive\",\n",
    "    2 : \"negative\"\n",
    "}"
   ]
  },
  {
   "cell_type": "code",
   "execution_count": 12,
   "id": "710030b9",
   "metadata": {
    "execution": {
     "iopub.execute_input": "2024-12-03T18:41:08.947436Z",
     "iopub.status.busy": "2024-12-03T18:41:08.946674Z",
     "iopub.status.idle": "2024-12-03T18:41:09.222683Z",
     "shell.execute_reply": "2024-12-03T18:41:09.221718Z"
    },
    "papermill": {
     "duration": 0.289362,
     "end_time": "2024-12-03T18:41:09.224507",
     "exception": false,
     "start_time": "2024-12-03T18:41:08.935145",
     "status": "completed"
    },
    "tags": []
   },
   "outputs": [
    {
     "data": {
      "text/plain": [
       "<Axes: xlabel='sentiment', ylabel='count'>"
      ]
     },
     "execution_count": 12,
     "metadata": {},
     "output_type": "execute_result"
    },
    {
     "data": {
      "image/png": "[encoded data removed]",
      "text/plain": [
       "<Figure size 500x500 with 1 Axes>"
      ]
     },
     "metadata": {},
     "output_type": "display_data"
    }
   ],
   "source": [
    "plt.figure(figsize=(5, 5))\n",
    "sns.countplot(df_train,x='sentiment')"
   ]
  },
  {
   "cell_type": "code",
   "execution_count": 13,
   "id": "2d47032e",
   "metadata": {
    "execution": {
     "iopub.execute_input": "2024-12-03T18:41:09.249042Z",
     "iopub.status.busy": "2024-12-03T18:41:09.248189Z",
     "iopub.status.idle": "2024-12-03T18:41:09.475033Z",
     "shell.execute_reply": "2024-12-03T18:41:09.474007Z"
    },
    "papermill": {
     "duration": 0.241357,
     "end_time": "2024-12-03T18:41:09.477237",
     "exception": false,
     "start_time": "2024-12-03T18:41:09.235880",
     "status": "completed"
    },
    "tags": []
   },
   "outputs": [
    {
     "data": {
      "text/plain": [
       "<Axes: xlabel='sentiment', ylabel='count'>"
      ]
     },
     "execution_count": 13,
     "metadata": {},
     "output_type": "execute_result"
    },
    {
     "data": {
      "image/png": "[encoded data removed]",
      "text/plain": [
       "<Figure size 500x500 with 1 Axes>"
      ]
     },
     "metadata": {},
     "output_type": "display_data"
    }
   ],
   "source": [
    "import seaborn as sns\n",
    "plt.figure(figsize=(5, 5))\n",
    "sns.countplot(df_test,x='sentiment')"
   ]
  },
  {
   "cell_type": "code",
   "execution_count": 14,
   "id": "ca35f8a5",
   "metadata": {
    "execution": {
     "iopub.execute_input": "2024-12-03T18:41:09.500920Z",
     "iopub.status.busy": "2024-12-03T18:41:09.500187Z",
     "iopub.status.idle": "2024-12-03T18:41:09.512646Z",
     "shell.execute_reply": "2024-12-03T18:41:09.511825Z"
    },
    "papermill": {
     "duration": 0.026098,
     "end_time": "2024-12-03T18:41:09.514389",
     "exception": false,
     "start_time": "2024-12-03T18:41:09.488291",
     "status": "completed"
    },
    "tags": []
   },
   "outputs": [
    {
     "data": {
      "text/html": [
       "<div>\n",
       "<style scoped>\n",
       "    .dataframe tbody tr th:only-of-type {\n",
       "        vertical-align: middle;\n",
       "    }\n",
       "\n",
       "    .dataframe tbody tr th {\n",
       "        vertical-align: top;\n",
       "    }\n",
       "\n",
       "    .dataframe thead th {\n",
       "        text-align: right;\n",
       "    }\n",
       "</style>\n",
       "<table border=\"1\" class=\"dataframe\">\n",
       "  <thead>\n",
       "    <tr style=\"text-align: right;\">\n",
       "      <th></th>\n",
       "      <th>textID</th>\n",
       "      <th>text</th>\n",
       "      <th>selected_text</th>\n",
       "      <th>sentiment</th>\n",
       "    </tr>\n",
       "  </thead>\n",
       "  <tbody>\n",
       "    <tr>\n",
       "      <th>0</th>\n",
       "      <td>cb774db0d1</td>\n",
       "      <td>I`d have responded, if I were going</td>\n",
       "      <td>I`d have responded, if I were going</td>\n",
       "      <td>neutral</td>\n",
       "    </tr>\n",
       "    <tr>\n",
       "      <th>1</th>\n",
       "      <td>549e992a42</td>\n",
       "      <td>Sooo SAD I will miss you here in San Diego!!!</td>\n",
       "      <td>Sooo SAD</td>\n",
       "      <td>negative</td>\n",
       "    </tr>\n",
       "    <tr>\n",
       "      <th>2</th>\n",
       "      <td>088c60f138</td>\n",
       "      <td>my boss is bullying me...</td>\n",
       "      <td>bullying me</td>\n",
       "      <td>negative</td>\n",
       "    </tr>\n",
       "    <tr>\n",
       "      <th>3</th>\n",
       "      <td>9642c003ef</td>\n",
       "      <td>what interview! leave me alone</td>\n",
       "      <td>leave me alone</td>\n",
       "      <td>negative</td>\n",
       "    </tr>\n",
       "    <tr>\n",
       "      <th>4</th>\n",
       "      <td>358bd9e861</td>\n",
       "      <td>Sons of ****, why couldn`t they put them on t...</td>\n",
       "      <td>Sons of ****,</td>\n",
       "      <td>negative</td>\n",
       "    </tr>\n",
       "  </tbody>\n",
       "</table>\n",
       "</div>"
      ],
      "text/plain": [
       "       textID                                               text  \\\n",
       "0  cb774db0d1                I`d have responded, if I were going   \n",
       "1  549e992a42      Sooo SAD I will miss you here in San Diego!!!   \n",
       "2  088c60f138                          my boss is bullying me...   \n",
       "3  9642c003ef                     what interview! leave me alone   \n",
       "4  358bd9e861   Sons of ****, why couldn`t they put them on t...   \n",
       "\n",
       "                         selected_text sentiment  \n",
       "0  I`d have responded, if I were going   neutral  \n",
       "1                             Sooo SAD  negative  \n",
       "2                          bullying me  negative  \n",
       "3                       leave me alone  negative  \n",
       "4                        Sons of ****,  negative  "
      ]
     },
     "execution_count": 14,
     "metadata": {},
     "output_type": "execute_result"
    }
   ],
   "source": [
    "df_train.head(5)"
   ]
  },
  {
   "cell_type": "code",
   "execution_count": 15,
   "id": "c8c24366",
   "metadata": {
    "execution": {
     "iopub.execute_input": "2024-12-03T18:41:09.538888Z",
     "iopub.status.busy": "2024-12-03T18:41:09.538209Z",
     "iopub.status.idle": "2024-12-03T18:41:09.545084Z",
     "shell.execute_reply": "2024-12-03T18:41:09.544342Z"
    },
    "papermill": {
     "duration": 0.020462,
     "end_time": "2024-12-03T18:41:09.546828",
     "exception": false,
     "start_time": "2024-12-03T18:41:09.526366",
     "status": "completed"
    },
    "tags": []
   },
   "outputs": [],
   "source": [
    "df_train.drop(columns = ['textID', 'selected_text'], axis=1, inplace=True)\n",
    "# df_test.drop(columns = ['textID', 'selected_text'], axis=1, inplace=True)"
   ]
  },
  {
   "cell_type": "code",
   "execution_count": 16,
   "id": "38033a7d",
   "metadata": {
    "execution": {
     "iopub.execute_input": "2024-12-03T18:41:09.570036Z",
     "iopub.status.busy": "2024-12-03T18:41:09.569734Z",
     "iopub.status.idle": "2024-12-03T18:41:09.574455Z",
     "shell.execute_reply": "2024-12-03T18:41:09.573604Z"
    },
    "papermill": {
     "duration": 0.018329,
     "end_time": "2024-12-03T18:41:09.576354",
     "exception": false,
     "start_time": "2024-12-03T18:41:09.558025",
     "status": "completed"
    },
    "tags": []
   },
   "outputs": [],
   "source": [
    "# in tweet people will mention or tag other, \n",
    "pattern_handle=r'@\\w+'  # Only matched if @ followed by alphanumeric characters & underscore\n",
    "\n",
    "# removing website, web url will not give information about sentiment or emotions\n",
    "pattern_web =  r\"(([\\w]+:)?//)?(([\\d\\w]|%[a-fA-F\\d]{2,2})+(:([\\d\\w]|%[a-fA-f\\d]{2,2})+)?@)?([\\d\\w][-\\d\\w]{0,253}[\\d\\w]\\.)+[\\w]{2,4}(:[\\d]+)?(/([-+_~.\\d\\w]|%[a-fA-f\\d]{2,2})*)*(\\?(&?([-+_~.\\d\\w]|%[a-fA-f\\d]{2,2})=?)*)?(#([-+_~.\\d\\w]|%[a-fA-f\\d]{2,2})*)?\"\n",
    "\n",
    "# removing email, email id will not give information about sentiment or emotions\n",
    "pattern_email= r\"(?:[a-z0-9!#$%&'*+/=?^_`{|}~-]+(?:\\.[a-z0-9!#$%&'*+/=?^_`{|}~-]+)*|(?:[\\x01-\\x08\\x0b\\x0c\\x0e-\\x1f\\x21\\x23-\\x5b\\x5d-\\x7f]|\\\\[\\x01-\\x09\\x0b\\x0c\\x0e-\\x7f])*)@(?:(?:[a-z0-9](?:[a-z0-9-]*[a-z0-9])?\\.)+[a-z0-9](?:[a-z0-9-]*[a-z0-9])?|\\[(?:(?:25[0-5]|2[0-4][0-9]|[01]?[0-9][0-9]?)\\.){3}(?:25[0-5]|2[0-4][0-9]|[01]?[0-9][0-9]?|[a-z0-9-]*[a-z0-9]:(?:[\\x01-\\x08\\x0b\\x0c\\x0e-\\x1f\\x21-\\x5a\\x53-\\x7f]|\\\\[\\x01-\\x09\\x0b\\x0c\\x0e-\\x7f])+)\\])\"\n",
    "\n",
    "# hastage in tweet, Ex: #LLM, #Love, #LLAMA\n",
    "pattern_hash=r'#(\\w+)'\n",
    "\n",
    "# Removing some of the chars are repeated more than twice ex: oh my goddddddddddddd!, good, luckkkkkkkkkkkkk! \n",
    "pattern_repeat=r'([A-Za-z])\\1{2,}'\n",
    "\n",
    "# removing Contraction\n",
    "# Removing Emoji\n"
   ]
  },
  {
   "cell_type": "code",
   "execution_count": 17,
   "id": "9ca1b29e",
   "metadata": {
    "execution": {
     "iopub.execute_input": "2024-12-03T18:41:09.600477Z",
     "iopub.status.busy": "2024-12-03T18:41:09.600164Z",
     "iopub.status.idle": "2024-12-03T18:41:09.637059Z",
     "shell.execute_reply": "2024-12-03T18:41:09.636356Z"
    },
    "papermill": {
     "duration": 0.051397,
     "end_time": "2024-12-03T18:41:09.639066",
     "exception": false,
     "start_time": "2024-12-03T18:41:09.587669",
     "status": "completed"
    },
    "tags": []
   },
   "outputs": [],
   "source": [
    "import re\n",
    "import contractions\n",
    "import emoji\n",
    "import string\n",
    "\n",
    "def clean_text(tweet):\n",
    "\n",
    "    text_modified = re.sub(pattern_web,'',tweet)\n",
    "\n",
    "    text_modified = re.sub(pattern_handle,\" \",text_modified)\n",
    "    \n",
    "    text_modified = re.sub(pattern_hash,\" \\\\1\",text_modified)\n",
    "    \n",
    "    text_modified = re.sub(pattern_email,' ',text_modified)\n",
    "    \n",
    "    text_modified = emoji.demojize(text_modified)\n",
    "    \n",
    "    #Replacing ` with ' to be used in contraction\n",
    "    pattern_apos = r'`'\n",
    "    text_modified = re.sub(pattern_apos,\"'\",text_modified)\n",
    "\n",
    "    #Removing contractions\n",
    "    text_modified=contractions.fix(text_modified)\n",
    "\n",
    "    #Normalising repeated characters\n",
    "    text_modified=re.sub(pattern_repeat,r'\\1',text_modified)\n",
    "    \n",
    "    #Removing numbers\n",
    "    pattern_num=r'[0-9]'\n",
    "    text_modified=re.sub(pattern_num,\" \",text_modified)\n",
    "    \n",
    "    #Removing punctuation\n",
    "    pattern_punc=\"[\" + re.escape(string.punctuation) + \"]\"\n",
    "    \n",
    "    text_modified=re.sub(pattern_punc,\" \",text_modified)\n",
    "    \n",
    "    #lowering characters\n",
    "    text_modified=text_modified.lower()\n",
    "\n",
    "    #Removing extra white space chars\n",
    "    pattern_space=r'\\s+'\n",
    "    \n",
    "    text_modified=re.sub(pattern_space,\" \",text_modified)\n",
    "    \n",
    "    return text_modified"
   ]
  },
  {
   "cell_type": "code",
   "execution_count": 18,
   "id": "118e9afc",
   "metadata": {
    "execution": {
     "iopub.execute_input": "2024-12-03T18:41:09.663249Z",
     "iopub.status.busy": "2024-12-03T18:41:09.662897Z",
     "iopub.status.idle": "2024-12-03T18:41:15.026449Z",
     "shell.execute_reply": "2024-12-03T18:41:15.025450Z"
    },
    "papermill": {
     "duration": 5.378081,
     "end_time": "2024-12-03T18:41:15.028598",
     "exception": false,
     "start_time": "2024-12-03T18:41:09.650517",
     "status": "completed"
    },
    "tags": []
   },
   "outputs": [],
   "source": [
    "# Remove NaN in the dataset\n",
    "df_train.dropna(axis=0, inplace=True)\n",
    "df_test.dropna(axis=0, inplace=True)\n",
    "# df_validate.dropna(axis=0, inplace=True)\n",
    "\n",
    "# Removing the empty string rows from Dataset\n",
    "df_train = df_train[df_train['text'].str.strip() != \"\"]\n",
    "df_test = df_test[df_test['text'].str.strip() != \"\"]\n",
    "# df_validate = df_validate[df_validate['text'].str.strip() != \"\"]\n",
    "\n",
    "\n",
    "df_train['cleaned_text'] = df_train['text'].apply(clean_text)\n",
    "df_test['cleaned_text'] = df_test['text'].apply(clean_text)\n",
    "# df_validate['cleaned_text'] = df_validate['text'].apply(clean_text)"
   ]
  },
  {
   "cell_type": "code",
   "execution_count": 19,
   "id": "29bdcb11",
   "metadata": {
    "execution": {
     "iopub.execute_input": "2024-12-03T18:41:15.053100Z",
     "iopub.status.busy": "2024-12-03T18:41:15.052392Z",
     "iopub.status.idle": "2024-12-03T18:41:15.067231Z",
     "shell.execute_reply": "2024-12-03T18:41:15.066407Z"
    },
    "papermill": {
     "duration": 0.029724,
     "end_time": "2024-12-03T18:41:15.070049",
     "exception": false,
     "start_time": "2024-12-03T18:41:15.040325",
     "status": "completed"
    },
    "tags": []
   },
   "outputs": [],
   "source": [
    "# Dropping unwanted Column\n",
    "df_train.drop(columns = ['text'], axis=1, inplace=True)\n",
    "df_test.drop(columns = ['text'], axis=1, inplace=True)\n",
    "# df_validate.drop(columns = ['text'], axis=1, inplace=True)\n",
    "\n",
    "# Rename column\n",
    "df_train.rename(columns = {'cleaned_text': 'text'}, inplace=True)\n",
    "df_test.rename(columns = {'cleaned_text': 'text'}, inplace=True)\n",
    "df_train.rename(columns = {'sentiment': 'label'}, inplace=True)\n",
    "df_test.rename(columns = {'sentiment': 'label'}, inplace=True)\n",
    "# df_validate.rename(columns = {'cleaned_text': 'text'}, inplace=True)\n",
    "\n",
    "\n",
    "df_train['label'] = df_train['label'].map(label2id)\n",
    "df_test['label'] = df_test['label'].map(label2id)"
   ]
  },
  {
   "cell_type": "code",
   "execution_count": 20,
   "id": "dc1f4906",
   "metadata": {
    "execution": {
     "iopub.execute_input": "2024-12-03T18:41:15.095350Z",
     "iopub.status.busy": "2024-12-03T18:41:15.094594Z",
     "iopub.status.idle": "2024-12-03T18:41:15.388578Z",
     "shell.execute_reply": "2024-12-03T18:41:15.387611Z"
    },
    "papermill": {
     "duration": 0.307915,
     "end_time": "2024-12-03T18:41:15.390505",
     "exception": false,
     "start_time": "2024-12-03T18:41:15.082590",
     "status": "completed"
    },
    "tags": []
   },
   "outputs": [
    {
     "data": {
      "image/png": "[encoded data removed]",
      "text/plain": [
       "<Figure size 300x500 with 1 Axes>"
      ]
     },
     "metadata": {},
     "output_type": "display_data"
    }
   ],
   "source": [
    "df = df_train.copy()\n",
    "# Calculate the length of each string in the 'text' column\n",
    "df['text_length'] = df['text'].apply(len)\n",
    "\n",
    "# Set the style of the plot\n",
    "sns.set(style=\"whitegrid\")\n",
    "\n",
    "# Visualize the length of strings based on the 'target' column using a boxplot\n",
    "plt.figure(figsize=(3, 5))\n",
    "sns.boxplot(x='label', y='text_length', data=df)\n",
    "\n",
    "# Add title and labels\n",
    "plt.title('Distribution of Text Lengths Based on Target (Train Dataset)', fontsize=14)\n",
    "plt.xlabel('Label', fontsize=12)\n",
    "plt.ylabel('Text Length', fontsize=12)\n",
    "\n",
    "# Show the plot\n",
    "plt.show()\n"
   ]
  },
  {
   "cell_type": "code",
   "execution_count": 21,
   "id": "8ac82b15",
   "metadata": {
    "execution": {
     "iopub.execute_input": "2024-12-03T18:41:15.416343Z",
     "iopub.status.busy": "2024-12-03T18:41:15.416004Z",
     "iopub.status.idle": "2024-12-03T18:41:15.695929Z",
     "shell.execute_reply": "2024-12-03T18:41:15.694951Z"
    },
    "papermill": {
     "duration": 0.294973,
     "end_time": "2024-12-03T18:41:15.697742",
     "exception": false,
     "start_time": "2024-12-03T18:41:15.402769",
     "status": "completed"
    },
    "tags": []
   },
   "outputs": [
    {
     "data": {
      "image/png": "[encoded data removed]",
      "text/plain": [
       "<Figure size 300x500 with 1 Axes>"
      ]
     },
     "metadata": {},
     "output_type": "display_data"
    }
   ],
   "source": [
    "df = df_test.copy()\n",
    "# Calculate the length of each string in the 'text' column\n",
    "df['text_length'] = df['text'].apply(len)\n",
    "\n",
    "# Set the style of the plot\n",
    "sns.set(style=\"whitegrid\")\n",
    "\n",
    "# Visualize the length of strings based on the 'target' column using a boxplot\n",
    "plt.figure(figsize=(3, 5))\n",
    "sns.boxplot(x='label', y='text_length', data=df)\n",
    "\n",
    "# Add title and labels\n",
    "plt.title('Distribution of Text Lengths Based on Target (Test Dataset)', fontsize=14)\n",
    "plt.xlabel('Label', fontsize=12)\n",
    "plt.ylabel('Text Length', fontsize=12)\n",
    "\n",
    "# Show the plot\n",
    "plt.show()\n"
   ]
  },
  {
   "cell_type": "code",
   "execution_count": 22,
   "id": "0c409b48",
   "metadata": {
    "execution": {
     "iopub.execute_input": "2024-12-03T18:41:15.723124Z",
     "iopub.status.busy": "2024-12-03T18:41:15.722836Z",
     "iopub.status.idle": "2024-12-03T18:41:15.770582Z",
     "shell.execute_reply": "2024-12-03T18:41:15.769864Z"
    },
    "papermill": {
     "duration": 0.062255,
     "end_time": "2024-12-03T18:41:15.772444",
     "exception": false,
     "start_time": "2024-12-03T18:41:15.710189",
     "status": "completed"
    },
    "tags": []
   },
   "outputs": [],
   "source": [
    "# Convert Pandas DataFrames to Hugging Face Datasets\n",
    "dataset = DatasetDict({\n",
    "    \"train\": Dataset.from_pandas(df_train),\n",
    "    \"test\": Dataset.from_pandas(df_test)\n",
    "})"
   ]
  },
  {
   "cell_type": "code",
   "execution_count": 23,
   "id": "914a84fe",
   "metadata": {
    "execution": {
     "iopub.execute_input": "2024-12-03T18:41:15.797974Z",
     "iopub.status.busy": "2024-12-03T18:41:15.797660Z",
     "iopub.status.idle": "2024-12-03T18:41:15.806017Z",
     "shell.execute_reply": "2024-12-03T18:41:15.805212Z"
    },
    "papermill": {
     "duration": 0.022995,
     "end_time": "2024-12-03T18:41:15.807690",
     "exception": false,
     "start_time": "2024-12-03T18:41:15.784695",
     "status": "completed"
    },
    "tags": []
   },
   "outputs": [
    {
     "data": {
      "text/html": [
       "<div>\n",
       "<style scoped>\n",
       "    .dataframe tbody tr th:only-of-type {\n",
       "        vertical-align: middle;\n",
       "    }\n",
       "\n",
       "    .dataframe tbody tr th {\n",
       "        vertical-align: top;\n",
       "    }\n",
       "\n",
       "    .dataframe thead th {\n",
       "        text-align: right;\n",
       "    }\n",
       "</style>\n",
       "<table border=\"1\" class=\"dataframe\">\n",
       "  <thead>\n",
       "    <tr style=\"text-align: right;\">\n",
       "      <th></th>\n",
       "      <th>label</th>\n",
       "      <th>text</th>\n",
       "    </tr>\n",
       "  </thead>\n",
       "  <tbody>\n",
       "    <tr>\n",
       "      <th>0</th>\n",
       "      <td>0</td>\n",
       "      <td>i would have responded if i were going</td>\n",
       "    </tr>\n",
       "    <tr>\n",
       "      <th>1</th>\n",
       "      <td>2</td>\n",
       "      <td>so sad i will miss you here in san diego</td>\n",
       "    </tr>\n",
       "    <tr>\n",
       "      <th>2</th>\n",
       "      <td>2</td>\n",
       "      <td>my boss is bullying me</td>\n",
       "    </tr>\n",
       "    <tr>\n",
       "      <th>3</th>\n",
       "      <td>2</td>\n",
       "      <td>what interview leave me alone</td>\n",
       "    </tr>\n",
       "    <tr>\n",
       "      <th>4</th>\n",
       "      <td>2</td>\n",
       "      <td>sons of why could not they put them on the re...</td>\n",
       "    </tr>\n",
       "  </tbody>\n",
       "</table>\n",
       "</div>"
      ],
      "text/plain": [
       "   label                                               text\n",
       "0      0             i would have responded if i were going\n",
       "1      2          so sad i will miss you here in san diego \n",
       "2      2                            my boss is bullying me \n",
       "3      2                      what interview leave me alone\n",
       "4      2   sons of why could not they put them on the re..."
      ]
     },
     "execution_count": 23,
     "metadata": {},
     "output_type": "execute_result"
    }
   ],
   "source": [
    "df_train.head(5)"
   ]
  },
  {
   "cell_type": "code",
   "execution_count": 24,
   "id": "027a7b93",
   "metadata": {
    "execution": {
     "iopub.execute_input": "2024-12-03T18:41:15.832417Z",
     "iopub.status.busy": "2024-12-03T18:41:15.832131Z",
     "iopub.status.idle": "2024-12-03T18:41:15.853299Z",
     "shell.execute_reply": "2024-12-03T18:41:15.852570Z"
    },
    "papermill": {
     "duration": 0.035525,
     "end_time": "2024-12-03T18:41:15.854971",
     "exception": false,
     "start_time": "2024-12-03T18:41:15.819446",
     "status": "completed"
    },
    "tags": []
   },
   "outputs": [
    {
     "name": "stdout",
     "output_type": "stream",
     "text": [
      "Train dataset: 27480 samples, Counter({0: 11117, 1: 8582, 2: 7781})\n",
      "Test dataset: 3534 samples, Counter({0: 1430, 1: 1103, 2: 1001})\n",
      "Baseline accuracy: 40.46%\n"
     ]
    }
   ],
   "source": [
    "from collections import Counter\n",
    "\n",
    "train_len, test_len = len(dataset['train']), len(dataset['test'])\n",
    "# train_len, test_len = 7000, 1500\n",
    "\n",
    "train_dataset_label_counts = Counter(dataset['train']['label'])\n",
    "test_dataset_label_counts = Counter(dataset['test']['label'])\n",
    "\n",
    "print(f\"Train dataset: {train_len} samples, {train_dataset_label_counts}\")\n",
    "print(f\"Test dataset: {test_len} samples, {test_dataset_label_counts}\")\n",
    "\n",
    "test_majority_class = test_dataset_label_counts.most_common(1)[0]\n",
    "\n",
    "baseline_accuracy = test_majority_class[1] / test_len\n",
    "\n",
    "print(f\"Baseline accuracy: {baseline_accuracy:.2%}\")"
   ]
  },
  {
   "cell_type": "code",
   "execution_count": 25,
   "id": "ac89f844",
   "metadata": {
    "execution": {
     "iopub.execute_input": "2024-12-03T18:41:15.879917Z",
     "iopub.status.busy": "2024-12-03T18:41:15.879632Z",
     "iopub.status.idle": "2024-12-03T18:41:15.892061Z",
     "shell.execute_reply": "2024-12-03T18:41:15.891183Z"
    },
    "papermill": {
     "duration": 0.027253,
     "end_time": "2024-12-03T18:41:15.893968",
     "exception": false,
     "start_time": "2024-12-03T18:41:15.866715",
     "status": "completed"
    },
    "tags": []
   },
   "outputs": [],
   "source": [
    "import warnings\n",
    "import os\n",
    "from transformers import set_seed\n",
    "\n",
    "SEED = 123\n",
    "set_seed(SEED)\n",
    "\n",
    "warnings.filterwarnings('ignore')\n",
    "os.environ[\"TOKENIZERS_PARALLELISM\"] = \"false\"\n",
    "\n",
    "INPUT_DIR = '/kaggle/input/nlp-getting-started/'\n",
    "\n",
    "DIR = '/kaggle/working/'\n",
    "\n",
    "NUM_WORKERS = os.cpu_count()\n",
    "\n",
    "EPOCHS, R, LORA_ALPHA, LORA_DROPOUT = 3,16,32,0.1\n",
    "BATCH_SIZE = 8\n",
    "\n",
    "MODEL_ID = '/kaggle/input/llama-3.2/transformers/1b/1'\n",
    "# MODEL_ID = \"/kaggle/input/llama-3.1/transformers/8b/2\""
   ]
  },
  {
   "cell_type": "markdown",
   "id": "0b2fd766",
   "metadata": {
    "papermill": {
     "duration": 0.013018,
     "end_time": "2024-12-03T18:41:15.919653",
     "exception": false,
     "start_time": "2024-12-03T18:41:15.906635",
     "status": "completed"
    },
    "tags": []
   },
   "source": [
    "# <div style=\"padding: 30px;color:white;margin:10;font-size:60%;text-align:left;display:fill;border-radius:10px;overflow:hidden;background-color:#1496bb\"><b><span style='color:#F1A424'>3 |</span></b> <b>TOKENIZE THE TEXT DATA</b></div>"
   ]
  },
  {
   "cell_type": "code",
   "execution_count": 26,
   "id": "938b8b55",
   "metadata": {
    "execution": {
     "iopub.execute_input": "2024-12-03T18:41:15.947073Z",
     "iopub.status.busy": "2024-12-03T18:41:15.946406Z",
     "iopub.status.idle": "2024-12-03T18:41:16.462757Z",
     "shell.execute_reply": "2024-12-03T18:41:16.461690Z"
    },
    "papermill": {
     "duration": 0.532205,
     "end_time": "2024-12-03T18:41:16.464611",
     "exception": false,
     "start_time": "2024-12-03T18:41:15.932406",
     "status": "completed"
    },
    "tags": []
   },
   "outputs": [
    {
     "name": "stdout",
     "output_type": "stream",
     "text": [
      "right None\n",
      "right <|end_of_text|>\n"
     ]
    }
   ],
   "source": [
    "from transformers import AutoTokenizer\n",
    "\n",
    "tokenizer = AutoTokenizer.from_pretrained(MODEL_ID)\n",
    "print(tokenizer.padding_side, tokenizer.pad_token)\n",
    "tokenizer.pad_token = tokenizer.eos_token\n",
    "print(tokenizer.padding_side, tokenizer.pad_token)"
   ]
  },
  {
   "cell_type": "code",
   "execution_count": 27,
   "id": "373c7111",
   "metadata": {
    "execution": {
     "iopub.execute_input": "2024-12-03T18:41:16.491739Z",
     "iopub.status.busy": "2024-12-03T18:41:16.491414Z",
     "iopub.status.idle": "2024-12-03T18:41:18.946011Z",
     "shell.execute_reply": "2024-12-03T18:41:18.944809Z"
    },
    "papermill": {
     "duration": 2.470748,
     "end_time": "2024-12-03T18:41:18.947883",
     "exception": false,
     "start_time": "2024-12-03T18:41:16.477135",
     "status": "completed"
    },
    "tags": []
   },
   "outputs": [
    {
     "data": {
      "application/vnd.jupyter.widget-view+json": {
       "model_id": "79b83ca169034e5fbc0df393b6682eef",
       "version_major": 2,
       "version_minor": 0
      },
      "text/plain": [
       "Map:   0%|          | 0/27480 [00:00<?, ? examples/s]"
      ]
     },
     "metadata": {},
     "output_type": "display_data"
    },
    {
     "data": {
      "application/vnd.jupyter.widget-view+json": {
       "model_id": "4191a9c3a392459f8a13e02a20537de7",
       "version_major": 2,
       "version_minor": 0
      },
      "text/plain": [
       "Map:   0%|          | 0/3534 [00:00<?, ? examples/s]"
      ]
     },
     "metadata": {},
     "output_type": "display_data"
    },
    {
     "data": {
      "text/plain": [
       "(Dataset({\n",
       "     features: ['label', 'text', '__index_level_0__', 'input_ids', 'attention_mask'],\n",
       "     num_rows: 27480\n",
       " }),\n",
       " Dataset({\n",
       "     features: ['textID', 'label', 'text', 'input_ids', 'attention_mask'],\n",
       "     num_rows: 3534\n",
       " }))"
      ]
     },
     "execution_count": 27,
     "metadata": {},
     "output_type": "execute_result"
    }
   ],
   "source": [
    "tokenized_dataset = {}\n",
    "\n",
    "for split in dataset.keys():\n",
    "    tokenized_dataset[split] = dataset[split].map(\n",
    "        lambda x: tokenizer(x[\"text\"], truncation=True), batched=True\n",
    "    )\n",
    "    \n",
    "\n",
    "tokenized_dataset[\"train\"], tokenized_dataset[\"test\"]"
   ]
  },
  {
   "cell_type": "code",
   "execution_count": 28,
   "id": "132802ea",
   "metadata": {
    "execution": {
     "iopub.execute_input": "2024-12-03T18:41:18.976305Z",
     "iopub.status.busy": "2024-12-03T18:41:18.975994Z",
     "iopub.status.idle": "2024-12-03T18:41:18.995899Z",
     "shell.execute_reply": "2024-12-03T18:41:18.995061Z"
    },
    "papermill": {
     "duration": 0.036058,
     "end_time": "2024-12-03T18:41:18.997813",
     "exception": false,
     "start_time": "2024-12-03T18:41:18.961755",
     "status": "completed"
    },
    "tags": []
   },
   "outputs": [],
   "source": [
    "NUM_CLASSES = len(set(dataset['train'].to_pandas()['label']))"
   ]
  },
  {
   "cell_type": "markdown",
   "id": "765069e1",
   "metadata": {
    "papermill": {
     "duration": 0.013003,
     "end_time": "2024-12-03T18:41:19.024474",
     "exception": false,
     "start_time": "2024-12-03T18:41:19.011471",
     "status": "completed"
    },
    "tags": []
   },
   "source": [
    "# <div style=\"padding: 30px;color:white;margin:10;font-size:60%;text-align:left;display:fill;border-radius:10px;overflow:hidden;background-color:#1496bb\"><b><span style='color:#F1A424'>4 |</span></b> <b>IMPORT PRETRAINED LLM MODAL (LLAMA 3.2 1B V1)</b></div>"
   ]
  },
  {
   "cell_type": "code",
   "execution_count": 29,
   "id": "fabf5990",
   "metadata": {
    "execution": {
     "iopub.execute_input": "2024-12-03T18:41:19.052421Z",
     "iopub.status.busy": "2024-12-03T18:41:19.052099Z",
     "iopub.status.idle": "2024-12-03T18:41:32.790932Z",
     "shell.execute_reply": "2024-12-03T18:41:32.789886Z"
    },
    "papermill": {
     "duration": 13.755039,
     "end_time": "2024-12-03T18:41:32.792825",
     "exception": false,
     "start_time": "2024-12-03T18:41:19.037786",
     "status": "completed"
    },
    "tags": []
   },
   "outputs": [
    {
     "name": "stderr",
     "output_type": "stream",
     "text": [
      "`low_cpu_mem_usage` was None, now set to True since model is quantized.\n",
      "Some weights of LlamaForSequenceClassification were not initialized from the model checkpoint at /kaggle/input/llama-3.2/transformers/1b/1 and are newly initialized: ['score.weight']\n",
      "You should probably TRAIN this model on a down-stream task to be able to use it for predictions and inference.\n"
     ]
    },
    {
     "name": "stdout",
     "output_type": "stream",
     "text": [
      "None\n",
      "128001\n"
     ]
    }
   ],
   "source": [
    "from transformers import AutoModelForSequenceClassification, BitsAndBytesConfig\n",
    "\n",
    "bnb_config = BitsAndBytesConfig(  \n",
    "    load_in_8bit= True,\n",
    ")\n",
    "\n",
    "model = AutoModelForSequenceClassification.from_pretrained(\n",
    "    MODEL_ID,\n",
    "    num_labels=NUM_CLASSES,\n",
    "    quantization_config = bnb_config\n",
    ")\n",
    "print(model.config.pad_token_id)\n",
    "model.config.pad_token_id = model.config.eos_token_id\n",
    "print(model.config.pad_token_id)\n"
   ]
  },
  {
   "cell_type": "code",
   "execution_count": 30,
   "id": "715cb19b",
   "metadata": {
    "execution": {
     "iopub.execute_input": "2024-12-03T18:41:32.820959Z",
     "iopub.status.busy": "2024-12-03T18:41:32.820596Z",
     "iopub.status.idle": "2024-12-03T18:41:32.826672Z",
     "shell.execute_reply": "2024-12-03T18:41:32.825719Z"
    },
    "papermill": {
     "duration": 0.022208,
     "end_time": "2024-12-03T18:41:32.828309",
     "exception": false,
     "start_time": "2024-12-03T18:41:32.806101",
     "status": "completed"
    },
    "tags": []
   },
   "outputs": [
    {
     "name": "stdout",
     "output_type": "stream",
     "text": [
      "LlamaForSequenceClassification(\n",
      "  (model): LlamaModel(\n",
      "    (embed_tokens): Embedding(128256, 2048)\n",
      "    (layers): ModuleList(\n",
      "      (0-15): 16 x LlamaDecoderLayer(\n",
      "        (self_attn): LlamaSdpaAttention(\n",
      "          (q_proj): Linear8bitLt(in_features=2048, out_features=2048, bias=False)\n",
      "          (k_proj): Linear8bitLt(in_features=2048, out_features=512, bias=False)\n",
      "          (v_proj): Linear8bitLt(in_features=2048, out_features=512, bias=False)\n",
      "          (o_proj): Linear8bitLt(in_features=2048, out_features=2048, bias=False)\n",
      "          (rotary_emb): LlamaRotaryEmbedding()\n",
      "        )\n",
      "        (mlp): LlamaMLP(\n",
      "          (gate_proj): Linear8bitLt(in_features=2048, out_features=8192, bias=False)\n",
      "          (up_proj): Linear8bitLt(in_features=2048, out_features=8192, bias=False)\n",
      "          (down_proj): Linear8bitLt(in_features=8192, out_features=2048, bias=False)\n",
      "          (act_fn): SiLU()\n",
      "        )\n",
      "        (input_layernorm): LlamaRMSNorm()\n",
      "        (post_attention_layernorm): LlamaRMSNorm()\n",
      "      )\n",
      "    )\n",
      "    (norm): LlamaRMSNorm()\n",
      "    (rotary_emb): LlamaRotaryEmbedding()\n",
      "  )\n",
      "  (score): Linear(in_features=2048, out_features=3, bias=False)\n",
      ")\n"
     ]
    }
   ],
   "source": [
    "print(model)"
   ]
  },
  {
   "cell_type": "markdown",
   "id": "0c71ac88",
   "metadata": {
    "papermill": {
     "duration": 0.012817,
     "end_time": "2024-12-03T18:41:32.854599",
     "exception": false,
     "start_time": "2024-12-03T18:41:32.841782",
     "status": "completed"
    },
    "tags": []
   },
   "source": [
    "# <div style=\"padding: 30px;color:white;margin:10;font-size:60%;text-align:left;display:fill;border-radius:10px;overflow:hidden;background-color:#1496bb\"><b><span style='color:#F1A424'>5 |</span></b> <b>Performance Efficient Tunning (PEFT) using Quantized Low Rank Adaptation (QLoRA) </b></div>"
   ]
  },
  {
   "cell_type": "code",
   "execution_count": 31,
   "id": "e3e3637e",
   "metadata": {
    "execution": {
     "iopub.execute_input": "2024-12-03T18:41:32.883625Z",
     "iopub.status.busy": "2024-12-03T18:41:32.882744Z",
     "iopub.status.idle": "2024-12-03T18:41:32.906813Z",
     "shell.execute_reply": "2024-12-03T18:41:32.906007Z"
    },
    "papermill": {
     "duration": 0.041095,
     "end_time": "2024-12-03T18:41:32.908857",
     "exception": false,
     "start_time": "2024-12-03T18:41:32.867762",
     "status": "completed"
    },
    "tags": []
   },
   "outputs": [],
   "source": [
    "from peft import prepare_model_for_int8_training\n",
    "\n",
    "model = prepare_model_for_int8_training(model)\n",
    "\n",
    "#model"
   ]
  },
  {
   "cell_type": "code",
   "execution_count": 32,
   "id": "99af00b8",
   "metadata": {
    "execution": {
     "iopub.execute_input": "2024-12-03T18:41:32.939956Z",
     "iopub.status.busy": "2024-12-03T18:41:32.938961Z",
     "iopub.status.idle": "2024-12-03T18:41:32.944223Z",
     "shell.execute_reply": "2024-12-03T18:41:32.943332Z"
    },
    "papermill": {
     "duration": 0.021299,
     "end_time": "2024-12-03T18:41:32.946006",
     "exception": false,
     "start_time": "2024-12-03T18:41:32.924707",
     "status": "completed"
    },
    "tags": []
   },
   "outputs": [],
   "source": [
    "from peft import LoraConfig, TaskType, get_peft_model\n",
    "\n",
    "lora_config = LoraConfig(\n",
    "    r=R,\n",
    "    lora_alpha=LORA_ALPHA,\n",
    "    lora_dropout=LORA_DROPOUT,\n",
    "    task_type=TaskType.SEQ_CLS,\n",
    "    target_modules='all-linear'\n",
    ")\n",
    "#lora_config"
   ]
  },
  {
   "cell_type": "code",
   "execution_count": 33,
   "id": "74b7cb66",
   "metadata": {
    "execution": {
     "iopub.execute_input": "2024-12-03T18:41:32.973846Z",
     "iopub.status.busy": "2024-12-03T18:41:32.973032Z",
     "iopub.status.idle": "2024-12-03T18:41:33.232916Z",
     "shell.execute_reply": "2024-12-03T18:41:33.231904Z"
    },
    "papermill": {
     "duration": 0.27666,
     "end_time": "2024-12-03T18:41:33.235580",
     "exception": false,
     "start_time": "2024-12-03T18:41:32.958920",
     "status": "completed"
    },
    "tags": []
   },
   "outputs": [],
   "source": [
    "lora_model = get_peft_model(model, lora_config)\n",
    "# lora_model"
   ]
  },
  {
   "cell_type": "code",
   "execution_count": 34,
   "id": "3e050cd8",
   "metadata": {
    "execution": {
     "iopub.execute_input": "2024-12-03T18:41:33.269186Z",
     "iopub.status.busy": "2024-12-03T18:41:33.268229Z",
     "iopub.status.idle": "2024-12-03T18:41:33.279065Z",
     "shell.execute_reply": "2024-12-03T18:41:33.277984Z"
    },
    "papermill": {
     "duration": 0.028417,
     "end_time": "2024-12-03T18:41:33.280981",
     "exception": false,
     "start_time": "2024-12-03T18:41:33.252564",
     "status": "completed"
    },
    "tags": []
   },
   "outputs": [
    {
     "name": "stdout",
     "output_type": "stream",
     "text": [
      "trainable params: 11,311,152 || all params: 1,247,164,512 || trainable%: 0.9069494754834717\n"
     ]
    }
   ],
   "source": [
    "lora_model.print_trainable_parameters()"
   ]
  },
  {
   "cell_type": "markdown",
   "id": "ae4f1f58",
   "metadata": {
    "papermill": {
     "duration": 0.012826,
     "end_time": "2024-12-03T18:41:33.307107",
     "exception": false,
     "start_time": "2024-12-03T18:41:33.294281",
     "status": "completed"
    },
    "tags": []
   },
   "source": [
    "# <div style=\"padding: 30px;color:white;margin:10;font-size:60%;text-align:left;display:fill;border-radius:10px;overflow:hidden;background-color:#1496bb\"><b><span style='color:#F1A424'>6 |</span></b> <b>Train and Evaluation of LLM</b></div>"
   ]
  },
  {
   "cell_type": "code",
   "execution_count": 35,
   "id": "633691c3",
   "metadata": {
    "execution": {
     "iopub.execute_input": "2024-12-03T18:41:33.333868Z",
     "iopub.status.busy": "2024-12-03T18:41:33.333494Z",
     "iopub.status.idle": "2024-12-03T18:41:34.482893Z",
     "shell.execute_reply": "2024-12-03T18:41:34.481790Z"
    },
    "papermill": {
     "duration": 1.165838,
     "end_time": "2024-12-03T18:41:34.485275",
     "exception": false,
     "start_time": "2024-12-03T18:41:33.319437",
     "status": "completed"
    },
    "tags": []
   },
   "outputs": [],
   "source": [
    "from transformers import DataCollatorWithPadding, Trainer, TrainingArguments\n",
    "\n",
    "\n",
    "def compute_metrics(eval_pred):\n",
    "    predictions, labels = eval_pred\n",
    "    predictions = np.argmax(predictions, axis=1)\n",
    "    return {\"accuracy\": (predictions == labels).mean()}\n"
   ]
  },
  {
   "cell_type": "code",
   "execution_count": 36,
   "id": "5357c021",
   "metadata": {
    "execution": {
     "iopub.execute_input": "2024-12-03T18:41:34.514319Z",
     "iopub.status.busy": "2024-12-03T18:41:34.513987Z",
     "iopub.status.idle": "2024-12-03T18:41:34.721563Z",
     "shell.execute_reply": "2024-12-03T18:41:34.720615Z"
    },
    "papermill": {
     "duration": 0.224299,
     "end_time": "2024-12-03T18:41:34.723750",
     "exception": false,
     "start_time": "2024-12-03T18:41:34.499451",
     "status": "completed"
    },
    "tags": []
   },
   "outputs": [],
   "source": [
    "trainer = Trainer(\n",
    "    model=lora_model,\n",
    "    args=TrainingArguments(\n",
    "        output_dir=\"./data/\",\n",
    "        learning_rate=2e-5,  # Start with 2e-5, try other values in a range\n",
    "        per_device_train_batch_size=16,  # Larger batch size if memory permits\n",
    "        per_device_eval_batch_size=16,\n",
    "        evaluation_strategy=\"epoch\",  # You can change to \"steps\" if you want more frequent evals\n",
    "        save_strategy=\"epoch\",  # Save after every epoch\n",
    "        save_total_limit=3,  # Limit the number of saved checkpoints to avoid excessive storage use\n",
    "        num_train_epochs=EPOCHS,  # Adjust based on validation loss curve\n",
    "        weight_decay=0.01,\n",
    "        load_best_model_at_end=True,\n",
    "        logging_steps=100,  # Log less frequently if training is long\n",
    "        report_to=\"tensorboard\",  # Useful for monitoring training progress\n",
    "        fp16=False,  # Enable mixed-precision training (if hardware supports it)\n",
    "        lr_scheduler_type=\"linear\",  # Linear decay of learning rate\n",
    "        dataloader_num_workers=4,  # Optimize data loading, adjust based on your CPU\n",
    "    ),\n",
    "    train_dataset=tokenized_dataset[\"train\"],\n",
    "    eval_dataset=tokenized_dataset[\"test\"],\n",
    "    tokenizer=tokenizer,\n",
    "    data_collator=DataCollatorWithPadding(tokenizer=tokenizer),\n",
    "    compute_metrics=compute_metrics,\n",
    ")\n"
   ]
  },
  {
   "cell_type": "code",
   "execution_count": 37,
   "id": "ad00c02d",
   "metadata": {
    "execution": {
     "iopub.execute_input": "2024-12-03T18:41:34.752914Z",
     "iopub.status.busy": "2024-12-03T18:41:34.752272Z",
     "iopub.status.idle": "2024-12-03T18:42:35.360419Z",
     "shell.execute_reply": "2024-12-03T18:42:35.359429Z"
    },
    "papermill": {
     "duration": 60.624707,
     "end_time": "2024-12-03T18:42:35.362307",
     "exception": false,
     "start_time": "2024-12-03T18:41:34.737600",
     "status": "completed"
    },
    "tags": []
   },
   "outputs": [
    {
     "name": "stdout",
     "output_type": "stream",
     "text": [
      "Evaluating the Model Before Training!\n"
     ]
    },
    {
     "name": "stderr",
     "output_type": "stream",
     "text": [
      "We detected that you are passing `past_key_values` as a tuple and this is deprecated and will be removed in v4.43. Please use an appropriate `Cache` class (https://huggingface.co/docs/transformers/v4.41.3/en/internal/generation_utils#transformers.Cache)\n"
     ]
    },
    {
     "data": {
      "text/html": [
       "\n",
       "    <div>\n",
       "      \n",
       "      <progress value='442' max='221' style='width:300px; height:20px; vertical-align: middle;'></progress>\n",
       "      [221/221 24:13]\n",
       "    </div>\n",
       "    "
      ],
      "text/plain": [
       "<IPython.core.display.HTML object>"
      ]
     },
     "metadata": {},
     "output_type": "display_data"
    },
    {
     "data": {
      "text/plain": [
       "{'eval_loss': 1.7894459962844849,\n",
       " 'eval_model_preparation_time': 0.0044,\n",
       " 'eval_accuracy': 0.3638936049801924,\n",
       " 'eval_runtime': 60.5879,\n",
       " 'eval_samples_per_second': 58.329,\n",
       " 'eval_steps_per_second': 3.648}"
      ]
     },
     "execution_count": 37,
     "metadata": {},
     "output_type": "execute_result"
    }
   ],
   "source": [
    "print(\"Evaluating the Model Before Training!\")\n",
    "trainer.evaluate()"
   ]
  },
  {
   "cell_type": "code",
   "execution_count": 38,
   "id": "2e79db17",
   "metadata": {
    "execution": {
     "iopub.execute_input": "2024-12-03T18:42:35.391257Z",
     "iopub.status.busy": "2024-12-03T18:42:35.390907Z",
     "iopub.status.idle": "2024-12-03T19:52:15.912906Z",
     "shell.execute_reply": "2024-12-03T19:52:15.911803Z"
    },
    "papermill": {
     "duration": 4180.538897,
     "end_time": "2024-12-03T19:52:15.915141",
     "exception": false,
     "start_time": "2024-12-03T18:42:35.376244",
     "status": "completed"
    },
    "tags": []
   },
   "outputs": [
    {
     "name": "stdout",
     "output_type": "stream",
     "text": [
      "Training the Model\n"
     ]
    },
    {
     "name": "stderr",
     "output_type": "stream",
     "text": [
      "`use_cache=True` is incompatible with gradient checkpointing. Setting `use_cache=False`.\n"
     ]
    },
    {
     "data": {
      "text/html": [
       "\n",
       "    <div>\n",
       "      \n",
       "      <progress value='5154' max='5154' style='width:300px; height:20px; vertical-align: middle;'></progress>\n",
       "      [5154/5154 1:09:38, Epoch 3/3]\n",
       "    </div>\n",
       "    <table border=\"1\" class=\"dataframe\">\n",
       "  <thead>\n",
       " <tr style=\"text-align: left;\">\n",
       "      <th>Epoch</th>\n",
       "      <th>Training Loss</th>\n",
       "      <th>Validation Loss</th>\n",
       "      <th>Model Preparation Time</th>\n",
       "      <th>Accuracy</th>\n",
       "    </tr>\n",
       "  </thead>\n",
       "  <tbody>\n",
       "    <tr>\n",
       "      <td>1</td>\n",
       "      <td>0.548800</td>\n",
       "      <td>0.506178</td>\n",
       "      <td>0.004400</td>\n",
       "      <td>0.797397</td>\n",
       "    </tr>\n",
       "    <tr>\n",
       "      <td>2</td>\n",
       "      <td>0.444100</td>\n",
       "      <td>0.495509</td>\n",
       "      <td>0.004400</td>\n",
       "      <td>0.802773</td>\n",
       "    </tr>\n",
       "    <tr>\n",
       "      <td>3</td>\n",
       "      <td>0.419000</td>\n",
       "      <td>0.504934</td>\n",
       "      <td>0.004400</td>\n",
       "      <td>0.800792</td>\n",
       "    </tr>\n",
       "  </tbody>\n",
       "</table><p>"
      ],
      "text/plain": [
       "<IPython.core.display.HTML object>"
      ]
     },
     "metadata": {},
     "output_type": "display_data"
    },
    {
     "data": {
      "text/plain": [
       "TrainOutput(global_step=5154, training_loss=0.504505483873787, metrics={'train_runtime': 4180.062, 'train_samples_per_second': 19.722, 'train_steps_per_second': 1.233, 'total_flos': 1.395369816109056e+16, 'train_loss': 0.504505483873787, 'epoch': 3.0})"
      ]
     },
     "execution_count": 38,
     "metadata": {},
     "output_type": "execute_result"
    }
   ],
   "source": [
    "print(\"Training the Model\")\n",
    "trainer.train()"
   ]
  },
  {
   "cell_type": "code",
   "execution_count": 39,
   "id": "9a291245",
   "metadata": {
    "execution": {
     "iopub.execute_input": "2024-12-03T19:52:15.947784Z",
     "iopub.status.busy": "2024-12-03T19:52:15.945992Z",
     "iopub.status.idle": "2024-12-03T19:53:15.399114Z",
     "shell.execute_reply": "2024-12-03T19:53:15.398037Z"
    },
    "papermill": {
     "duration": 59.471161,
     "end_time": "2024-12-03T19:53:15.401220",
     "exception": false,
     "start_time": "2024-12-03T19:52:15.930059",
     "status": "completed"
    },
    "tags": []
   },
   "outputs": [
    {
     "name": "stdout",
     "output_type": "stream",
     "text": [
      "Evaluating the trained model\n"
     ]
    },
    {
     "data": {
      "text/html": [
       "\n",
       "    <div>\n",
       "      \n",
       "      <progress value='221' max='221' style='width:300px; height:20px; vertical-align: middle;'></progress>\n",
       "      [221/221 00:58]\n",
       "    </div>\n",
       "    "
      ],
      "text/plain": [
       "<IPython.core.display.HTML object>"
      ]
     },
     "metadata": {},
     "output_type": "display_data"
    },
    {
     "data": {
      "text/plain": [
       "{'eval_loss': 0.49456217885017395,\n",
       " 'eval_model_preparation_time': 0.0044,\n",
       " 'eval_accuracy': 0.801358234295416,\n",
       " 'eval_runtime': 59.4341,\n",
       " 'eval_samples_per_second': 59.461,\n",
       " 'eval_steps_per_second': 3.718,\n",
       " 'epoch': 3.0}"
      ]
     },
     "execution_count": 39,
     "metadata": {},
     "output_type": "execute_result"
    }
   ],
   "source": [
    "print(\"Evaluating the trained model\")\n",
    "trainer.evaluate()"
   ]
  },
  {
   "cell_type": "markdown",
   "id": "35f5a3c9",
   "metadata": {
    "papermill": {
     "duration": 0.014117,
     "end_time": "2024-12-03T19:53:15.431114",
     "exception": false,
     "start_time": "2024-12-03T19:53:15.416997",
     "status": "completed"
    },
    "tags": []
   },
   "source": [
    "# <div style=\"padding: 30px;color:white;margin:10;font-size:60%;text-align:left;display:fill;border-radius:10px;overflow:hidden;background-color:#1496bb\"><b><span style='color:#F1A424'>7 |</span></b> <b>Saving the Fine-Tuned Model for Future Use</b></div>"
   ]
  },
  {
   "cell_type": "code",
   "execution_count": 40,
   "id": "a36b57a7",
   "metadata": {
    "execution": {
     "iopub.execute_input": "2024-12-03T19:53:15.461344Z",
     "iopub.status.busy": "2024-12-03T19:53:15.460971Z",
     "iopub.status.idle": "2024-12-03T19:53:15.590968Z",
     "shell.execute_reply": "2024-12-03T19:53:15.589752Z"
    },
    "papermill": {
     "duration": 0.147466,
     "end_time": "2024-12-03T19:53:15.593041",
     "exception": false,
     "start_time": "2024-12-03T19:53:15.445575",
     "status": "completed"
    },
    "tags": []
   },
   "outputs": [
    {
     "name": "stdout",
     "output_type": "stream",
     "text": [
      "Saving the model!\n"
     ]
    }
   ],
   "source": [
    "print(\"Saving the model!\")\n",
    "lora_model.save_pretrained('fine-tuned-model-sentiment-clf')\n",
    "# tokenizer.save_pretrained('fine-tuned-model')"
   ]
  },
  {
   "cell_type": "code",
   "execution_count": 41,
   "id": "1b0fc85d",
   "metadata": {
    "execution": {
     "iopub.execute_input": "2024-12-03T19:53:15.624760Z",
     "iopub.status.busy": "2024-12-03T19:53:15.624314Z",
     "iopub.status.idle": "2024-12-03T19:53:16.048521Z",
     "shell.execute_reply": "2024-12-03T19:53:16.047387Z"
    },
    "papermill": {
     "duration": 0.442465,
     "end_time": "2024-12-03T19:53:16.050639",
     "exception": false,
     "start_time": "2024-12-03T19:53:15.608174",
     "status": "completed"
    },
    "tags": []
   },
   "outputs": [
    {
     "name": "stderr",
     "output_type": "stream",
     "text": [
      "The model 'PeftModelForSequenceClassification' is not supported for text-classification. Supported models are ['AlbertForSequenceClassification', 'BartForSequenceClassification', 'BertForSequenceClassification', 'BigBirdForSequenceClassification', 'BigBirdPegasusForSequenceClassification', 'BioGptForSequenceClassification', 'BloomForSequenceClassification', 'CamembertForSequenceClassification', 'CanineForSequenceClassification', 'LlamaForSequenceClassification', 'ConvBertForSequenceClassification', 'CTRLForSequenceClassification', 'Data2VecTextForSequenceClassification', 'DebertaForSequenceClassification', 'DebertaV2ForSequenceClassification', 'DistilBertForSequenceClassification', 'ElectraForSequenceClassification', 'ErnieForSequenceClassification', 'ErnieMForSequenceClassification', 'EsmForSequenceClassification', 'FalconForSequenceClassification', 'FlaubertForSequenceClassification', 'FNetForSequenceClassification', 'FunnelForSequenceClassification', 'GemmaForSequenceClassification', 'Gemma2ForSequenceClassification', 'GPT2ForSequenceClassification', 'GPT2ForSequenceClassification', 'GPTBigCodeForSequenceClassification', 'GPTNeoForSequenceClassification', 'GPTNeoXForSequenceClassification', 'GPTJForSequenceClassification', 'IBertForSequenceClassification', 'JambaForSequenceClassification', 'JetMoeForSequenceClassification', 'LayoutLMForSequenceClassification', 'LayoutLMv2ForSequenceClassification', 'LayoutLMv3ForSequenceClassification', 'LEDForSequenceClassification', 'LiltForSequenceClassification', 'LlamaForSequenceClassification', 'LongformerForSequenceClassification', 'LukeForSequenceClassification', 'MarkupLMForSequenceClassification', 'MBartForSequenceClassification', 'MegaForSequenceClassification', 'MegatronBertForSequenceClassification', 'MistralForSequenceClassification', 'MixtralForSequenceClassification', 'MobileBertForSequenceClassification', 'MPNetForSequenceClassification', 'MptForSequenceClassification', 'MraForSequenceClassification', 'MT5ForSequenceClassification', 'MvpForSequenceClassification', 'NezhaForSequenceClassification', 'NystromformerForSequenceClassification', 'OpenLlamaForSequenceClassification', 'OpenAIGPTForSequenceClassification', 'OPTForSequenceClassification', 'PerceiverForSequenceClassification', 'PersimmonForSequenceClassification', 'PhiForSequenceClassification', 'Phi3ForSequenceClassification', 'PLBartForSequenceClassification', 'QDQBertForSequenceClassification', 'Qwen2ForSequenceClassification', 'Qwen2MoeForSequenceClassification', 'ReformerForSequenceClassification', 'RemBertForSequenceClassification', 'RobertaForSequenceClassification', 'RobertaPreLayerNormForSequenceClassification', 'RoCBertForSequenceClassification', 'RoFormerForSequenceClassification', 'SqueezeBertForSequenceClassification', 'StableLmForSequenceClassification', 'Starcoder2ForSequenceClassification', 'T5ForSequenceClassification', 'TapasForSequenceClassification', 'TransfoXLForSequenceClassification', 'UMT5ForSequenceClassification', 'XLMForSequenceClassification', 'XLMRobertaForSequenceClassification', 'XLMRobertaXLForSequenceClassification', 'XLNetForSequenceClassification', 'XmodForSequenceClassification', 'YosoForSequenceClassification'].\n"
     ]
    }
   ],
   "source": [
    "from transformers import pipeline\n",
    "import torch \n",
    "\n",
    "clf = pipeline(\"text-classification\", lora_model, tokenizer=MODEL_ID)\n"
   ]
  },
  {
   "cell_type": "code",
   "execution_count": 42,
   "id": "9d5a59a1",
   "metadata": {
    "execution": {
     "iopub.execute_input": "2024-12-03T19:53:16.083167Z",
     "iopub.status.busy": "2024-12-03T19:53:16.082529Z",
     "iopub.status.idle": "2024-12-03T19:53:16.220226Z",
     "shell.execute_reply": "2024-12-03T19:53:16.219314Z"
    },
    "papermill": {
     "duration": 0.155665,
     "end_time": "2024-12-03T19:53:16.222079",
     "exception": false,
     "start_time": "2024-12-03T19:53:16.066414",
     "status": "completed"
    },
    "tags": []
   },
   "outputs": [
    {
     "name": "stdout",
     "output_type": "stream",
     "text": [
      "[{'label': 'LABEL_1', 'score': 0.9520286321640015}]\n"
     ]
    },
    {
     "data": {
      "text/plain": [
       "'1'"
      ]
     },
     "execution_count": 42,
     "metadata": {},
     "output_type": "execute_result"
    }
   ],
   "source": [
    "a = clf(\"Good morning\")\n",
    "print(a)\n",
    "a[0]['label'].split(\"_\")[1]"
   ]
  },
  {
   "cell_type": "code",
   "execution_count": 43,
   "id": "7f46f22b",
   "metadata": {
    "execution": {
     "iopub.execute_input": "2024-12-03T19:53:16.253785Z",
     "iopub.status.busy": "2024-12-03T19:53:16.253038Z",
     "iopub.status.idle": "2024-12-03T20:01:53.463410Z",
     "shell.execute_reply": "2024-12-03T20:01:53.462593Z"
    },
    "papermill": {
     "duration": 517.227854,
     "end_time": "2024-12-03T20:01:53.465241",
     "exception": false,
     "start_time": "2024-12-03T19:53:16.237387",
     "status": "completed"
    },
    "tags": []
   },
   "outputs": [
    {
     "data": {
      "application/vnd.jupyter.widget-view+json": {
       "model_id": "167ad26531254e9c87bcfa6b91801e2f",
       "version_major": 2,
       "version_minor": 0
      },
      "text/plain": [
       "Map:   0%|          | 0/3534 [00:00<?, ? examples/s]"
      ]
     },
     "metadata": {},
     "output_type": "display_data"
    },
    {
     "name": "stderr",
     "output_type": "stream",
     "text": [
      "You seem to be using the pipelines sequentially on GPU. In order to maximize efficiency please use a dataset\n"
     ]
    }
   ],
   "source": [
    "dataset_test = Dataset.from_pandas(df_test)\n",
    "\n",
    "# Batch prediction function\n",
    "def batch_predict(batch):\n",
    "    try:\n",
    "        predictions = clf(batch[\"text\"])  # Apply classifier to batch of texts\n",
    "    except:\n",
    "        print(batch['text'])\n",
    "        print(prediction)\n",
    "        predictions = 0\n",
    "    batch[\"prediction\"] = [pred[\"label\"].split(\"_\")[1] for pred in predictions]  # Extract numeric labels\n",
    "    return batch\n",
    "\n",
    "# Apply the batch prediction function to the dataset\n",
    "result_dataset = dataset_test.map(batch_predict, batched=True, batch_size=16)  # Adjust batch_size as needed"
   ]
  },
  {
   "cell_type": "code",
   "execution_count": 44,
   "id": "d36ad60e",
   "metadata": {
    "execution": {
     "iopub.execute_input": "2024-12-03T20:01:53.496448Z",
     "iopub.status.busy": "2024-12-03T20:01:53.496100Z",
     "iopub.status.idle": "2024-12-03T20:01:53.504043Z",
     "shell.execute_reply": "2024-12-03T20:01:53.503300Z"
    },
    "papermill": {
     "duration": 0.024997,
     "end_time": "2024-12-03T20:01:53.505723",
     "exception": false,
     "start_time": "2024-12-03T20:01:53.480726",
     "status": "completed"
    },
    "tags": []
   },
   "outputs": [],
   "source": [
    "df_valid = result_dataset.to_pandas()"
   ]
  },
  {
   "cell_type": "code",
   "execution_count": 45,
   "id": "f632a3f2",
   "metadata": {
    "execution": {
     "iopub.execute_input": "2024-12-03T20:01:53.536695Z",
     "iopub.status.busy": "2024-12-03T20:01:53.536359Z",
     "iopub.status.idle": "2024-12-03T20:01:53.542057Z",
     "shell.execute_reply": "2024-12-03T20:01:53.541331Z"
    },
    "papermill": {
     "duration": 0.023088,
     "end_time": "2024-12-03T20:01:53.543841",
     "exception": false,
     "start_time": "2024-12-03T20:01:53.520753",
     "status": "completed"
    },
    "tags": []
   },
   "outputs": [],
   "source": [
    "df_valid['prediction'] = df_valid['prediction'].astype(int)"
   ]
  },
  {
   "cell_type": "code",
   "execution_count": 46,
   "id": "e7ea0763",
   "metadata": {
    "execution": {
     "iopub.execute_input": "2024-12-03T20:01:53.574821Z",
     "iopub.status.busy": "2024-12-03T20:01:53.574489Z",
     "iopub.status.idle": "2024-12-03T20:01:53.919169Z",
     "shell.execute_reply": "2024-12-03T20:01:53.918105Z"
    },
    "papermill": {
     "duration": 0.362303,
     "end_time": "2024-12-03T20:01:53.920972",
     "exception": false,
     "start_time": "2024-12-03T20:01:53.558669",
     "status": "completed"
    },
    "tags": []
   },
   "outputs": [
    {
     "name": "stdout",
     "output_type": "stream",
     "text": [
      "Accuracy: 79.88%\n",
      "\n",
      "Confusion Matrix:\n",
      "[[1150  111  169]\n",
      " [ 193  891   19]\n",
      " [ 208   11  782]]\n"
     ]
    },
    {
     "data": {
      "image/png": "[encoded data removed]",
      "text/plain": [
       "<Figure size 640x480 with 2 Axes>"
      ]
     },
     "metadata": {},
     "output_type": "display_data"
    },
    {
     "name": "stdout",
     "output_type": "stream",
     "text": [
      "\n",
      "Classification Report:\n",
      "              precision    recall  f1-score   support\n",
      "\n",
      "     neutral       0.74      0.80      0.77      1430\n",
      "    positive       0.88      0.81      0.84      1103\n",
      "    negative       0.81      0.78      0.79      1001\n",
      "\n",
      "    accuracy                           0.80      3534\n",
      "   macro avg       0.81      0.80      0.80      3534\n",
      "weighted avg       0.80      0.80      0.80      3534\n",
      "\n"
     ]
    }
   ],
   "source": [
    "import pandas as pd\n",
    "from sklearn.metrics import accuracy_score, confusion_matrix, classification_report\n",
    "import seaborn as sns\n",
    "import matplotlib.pyplot as plt\n",
    "\n",
    "\n",
    "# 1. **Calculate Accuracy**\n",
    "accuracy = accuracy_score(df_valid['label'], df_valid['prediction'])\n",
    "print(f\"Accuracy: {accuracy * 100:.2f}%\")\n",
    "\n",
    "# 2. **Confusion Matrix**\n",
    "cm = confusion_matrix(df_valid['label'], df_valid['prediction'])\n",
    "print(\"\\nConfusion Matrix:\")\n",
    "print(cm)\n",
    "\n",
    "# Visualize confusion matrix with a heatmap\n",
    "sns.heatmap(cm, annot=True, fmt=\"d\", cmap=\"Blues\", xticklabels=[0,1,2], yticklabels=[0,1,2])\n",
    "plt.title(\"Confusion Matrix\")\n",
    "plt.xlabel(\"Predicted\")\n",
    "plt.ylabel(\"True\")\n",
    "plt.show()\n",
    "\n",
    "# 3. **Classification Report**\n",
    "report = classification_report(df_valid['label'], df_valid['prediction'], target_names=['neutral', 'positive', 'negative'])\n",
    "print(\"\\nClassification Report:\")\n",
    "print(report)"
   ]
  },
  {
   "cell_type": "code",
   "execution_count": 47,
   "id": "295c6206",
   "metadata": {
    "execution": {
     "iopub.execute_input": "2024-12-03T20:01:53.954515Z",
     "iopub.status.busy": "2024-12-03T20:01:53.953792Z",
     "iopub.status.idle": "2024-12-03T20:01:53.966059Z",
     "shell.execute_reply": "2024-12-03T20:01:53.965032Z"
    },
    "papermill": {
     "duration": 0.030968,
     "end_time": "2024-12-03T20:01:53.967928",
     "exception": false,
     "start_time": "2024-12-03T20:01:53.936960",
     "status": "completed"
    },
    "tags": []
   },
   "outputs": [
    {
     "data": {
      "text/html": [
       "<div>\n",
       "<style scoped>\n",
       "    .dataframe tbody tr th:only-of-type {\n",
       "        vertical-align: middle;\n",
       "    }\n",
       "\n",
       "    .dataframe tbody tr th {\n",
       "        vertical-align: top;\n",
       "    }\n",
       "\n",
       "    .dataframe thead th {\n",
       "        text-align: right;\n",
       "    }\n",
       "</style>\n",
       "<table border=\"1\" class=\"dataframe\">\n",
       "  <thead>\n",
       "    <tr style=\"text-align: right;\">\n",
       "      <th></th>\n",
       "      <th>textID</th>\n",
       "      <th>label</th>\n",
       "      <th>text</th>\n",
       "      <th>prediction</th>\n",
       "    </tr>\n",
       "  </thead>\n",
       "  <tbody>\n",
       "    <tr>\n",
       "      <th>0</th>\n",
       "      <td>f87dea47db</td>\n",
       "      <td>0</td>\n",
       "      <td>last session of the day</td>\n",
       "      <td>0</td>\n",
       "    </tr>\n",
       "    <tr>\n",
       "      <th>1</th>\n",
       "      <td>96d74cb729</td>\n",
       "      <td>1</td>\n",
       "      <td>shanghai is also really exciting precisely sk...</td>\n",
       "      <td>1</td>\n",
       "    </tr>\n",
       "    <tr>\n",
       "      <th>2</th>\n",
       "      <td>eee518ae67</td>\n",
       "      <td>2</td>\n",
       "      <td>recession hit veronique branquinho she has to ...</td>\n",
       "      <td>2</td>\n",
       "    </tr>\n",
       "    <tr>\n",
       "      <th>3</th>\n",
       "      <td>01082688c6</td>\n",
       "      <td>1</td>\n",
       "      <td>happy birthday</td>\n",
       "      <td>1</td>\n",
       "    </tr>\n",
       "    <tr>\n",
       "      <th>4</th>\n",
       "      <td>33987a8ee5</td>\n",
       "      <td>1</td>\n",
       "      <td>i like it</td>\n",
       "      <td>1</td>\n",
       "    </tr>\n",
       "    <tr>\n",
       "      <th>...</th>\n",
       "      <td>...</td>\n",
       "      <td>...</td>\n",
       "      <td>...</td>\n",
       "      <td>...</td>\n",
       "    </tr>\n",
       "    <tr>\n",
       "      <th>3529</th>\n",
       "      <td>e5f0e6ef4b</td>\n",
       "      <td>2</td>\n",
       "      <td>its at am i am very tired but i cannot sleep b...</td>\n",
       "      <td>2</td>\n",
       "    </tr>\n",
       "    <tr>\n",
       "      <th>3530</th>\n",
       "      <td>416863ce47</td>\n",
       "      <td>1</td>\n",
       "      <td>all alone in this old house again thanks for t...</td>\n",
       "      <td>1</td>\n",
       "    </tr>\n",
       "    <tr>\n",
       "      <th>3531</th>\n",
       "      <td>6332da480c</td>\n",
       "      <td>2</td>\n",
       "      <td>i know what you mean my little dog is sinking...</td>\n",
       "      <td>2</td>\n",
       "    </tr>\n",
       "    <tr>\n",
       "      <th>3532</th>\n",
       "      <td>df1baec676</td>\n",
       "      <td>1</td>\n",
       "      <td>sutra what is your next youtube video going t...</td>\n",
       "      <td>1</td>\n",
       "    </tr>\n",
       "    <tr>\n",
       "      <th>3533</th>\n",
       "      <td>469e15c5a8</td>\n",
       "      <td>1</td>\n",
       "      <td>omgssh ang cute ng bby</td>\n",
       "      <td>1</td>\n",
       "    </tr>\n",
       "  </tbody>\n",
       "</table>\n",
       "<p>3534 rows × 4 columns</p>\n",
       "</div>"
      ],
      "text/plain": [
       "          textID  label                                               text  \\\n",
       "0     f87dea47db      0                           last session of the day    \n",
       "1     96d74cb729      1   shanghai is also really exciting precisely sk...   \n",
       "2     eee518ae67      2  recession hit veronique branquinho she has to ...   \n",
       "3     01082688c6      1                                    happy birthday    \n",
       "4     33987a8ee5      1                                         i like it    \n",
       "...          ...    ...                                                ...   \n",
       "3529  e5f0e6ef4b      2  its at am i am very tired but i cannot sleep b...   \n",
       "3530  416863ce47      1  all alone in this old house again thanks for t...   \n",
       "3531  6332da480c      2   i know what you mean my little dog is sinking...   \n",
       "3532  df1baec676      1   sutra what is your next youtube video going t...   \n",
       "3533  469e15c5a8      1                            omgssh ang cute ng bby    \n",
       "\n",
       "      prediction  \n",
       "0              0  \n",
       "1              1  \n",
       "2              2  \n",
       "3              1  \n",
       "4              1  \n",
       "...          ...  \n",
       "3529           2  \n",
       "3530           1  \n",
       "3531           2  \n",
       "3532           1  \n",
       "3533           1  \n",
       "\n",
       "[3534 rows x 4 columns]"
      ]
     },
     "execution_count": 47,
     "metadata": {},
     "output_type": "execute_result"
    }
   ],
   "source": [
    "df_valid"
   ]
  },
  {
   "cell_type": "code",
   "execution_count": 48,
   "id": "bf00936a",
   "metadata": {
    "execution": {
     "iopub.execute_input": "2024-12-03T20:01:54.002789Z",
     "iopub.status.busy": "2024-12-03T20:01:54.001882Z",
     "iopub.status.idle": "2024-12-03T20:01:54.522991Z",
     "shell.execute_reply": "2024-12-03T20:01:54.521834Z"
    },
    "papermill": {
     "duration": 0.540445,
     "end_time": "2024-12-03T20:01:54.525082",
     "exception": false,
     "start_time": "2024-12-03T20:01:53.984637",
     "status": "completed"
    },
    "tags": []
   },
   "outputs": [
    {
     "name": "stdout",
     "output_type": "stream",
     "text": [
      "The token has not been saved to the git credentials helper. Pass `add_to_git_credential=True` in this function directly or `--add-to-git-credential` if using via `huggingface-cli` if you want to set the git credential as well.\n",
      "Token is valid (permission: fineGrained).\n",
      "Your token has been saved to /root/.cache/huggingface/token\n",
      "Login successful\n",
      "Logged in to Hugging Face successfully!\n"
     ]
    }
   ],
   "source": [
    "import subprocess\n",
    "\n",
    "# Retrieve token from environment variable\n",
    "hf_token = secret_value_1\n",
    "\n",
    "if hf_token:\n",
    "    # Automate Hugging Face CLI login\n",
    "    subprocess.run(\n",
    "        [\"huggingface-cli\", \"login\", \"--token\", hf_token],\n",
    "        check=True\n",
    "    )\n",
    "    print(\"Logged in to Hugging Face successfully!\")\n",
    "else:\n",
    "    print(\"HF_TOKEN environment variable is not set.\")"
   ]
  },
  {
   "cell_type": "code",
   "execution_count": 49,
   "id": "5dbbd0f4",
   "metadata": {
    "execution": {
     "iopub.execute_input": "2024-12-03T20:01:54.559110Z",
     "iopub.status.busy": "2024-12-03T20:01:54.558255Z",
     "iopub.status.idle": "2024-12-03T20:01:54.564260Z",
     "shell.execute_reply": "2024-12-03T20:01:54.563412Z"
    },
    "papermill": {
     "duration": 0.024548,
     "end_time": "2024-12-03T20:01:54.566142",
     "exception": false,
     "start_time": "2024-12-03T20:01:54.541594",
     "status": "completed"
    },
    "tags": []
   },
   "outputs": [
    {
     "data": {
      "text/plain": [
       "'/kaggle/working'"
      ]
     },
     "execution_count": 49,
     "metadata": {},
     "output_type": "execute_result"
    }
   ],
   "source": [
    "%pwd"
   ]
  },
  {
   "cell_type": "code",
   "execution_count": 50,
   "id": "034cc2d3",
   "metadata": {
    "execution": {
     "iopub.execute_input": "2024-12-03T20:01:54.600767Z",
     "iopub.status.busy": "2024-12-03T20:01:54.600106Z",
     "iopub.status.idle": "2024-12-03T20:01:54.604841Z",
     "shell.execute_reply": "2024-12-03T20:01:54.603911Z"
    },
    "papermill": {
     "duration": 0.02445,
     "end_time": "2024-12-03T20:01:54.606955",
     "exception": false,
     "start_time": "2024-12-03T20:01:54.582505",
     "status": "completed"
    },
    "tags": []
   },
   "outputs": [
    {
     "name": "stdout",
     "output_type": "stream",
     "text": [
      "Hi\n"
     ]
    }
   ],
   "source": [
    "print(\"Hi\")"
   ]
  },
  {
   "cell_type": "code",
   "execution_count": 51,
   "id": "b98239c4",
   "metadata": {
    "execution": {
     "iopub.execute_input": "2024-12-03T20:01:54.641882Z",
     "iopub.status.busy": "2024-12-03T20:01:54.641493Z",
     "iopub.status.idle": "2024-12-03T20:01:54.648523Z",
     "shell.execute_reply": "2024-12-03T20:01:54.647571Z"
    },
    "papermill": {
     "duration": 0.026877,
     "end_time": "2024-12-03T20:01:54.650386",
     "exception": false,
     "start_time": "2024-12-03T20:01:54.623509",
     "status": "completed"
    },
    "tags": []
   },
   "outputs": [
    {
     "name": "stdout",
     "output_type": "stream",
     "text": [
      "Base model path updated to: /kaggle/input/llama-3.2/transformers/1b/1\n"
     ]
    }
   ],
   "source": [
    "# Define the path of your file\n",
    "file_path = './fine-tuned-model-sentiment-clf/README.md'\n",
    "\n",
    "# Define the old and new values for 'base_model'\n",
    "new_base_model_value= \"/kaggle/input/llama-3.2/transformers/1b/1\"\n",
    "old_base_model_value= \"meta/llama-3.2-1b\"  # New value for base_model\n",
    "\n",
    "# Open the file to read and replace the base_model value\n",
    "with open(file_path, 'r') as file:\n",
    "    content = file.read()\n",
    "\n",
    "# Replace the old base_model value with the new one\n",
    "content = content.replace(old_base_model_value, new_base_model_value)\n",
    "\n",
    "# Write the updated content back to the file\n",
    "with open(file_path, 'w') as file:\n",
    "    file.write(content)\n",
    "\n",
    "print(f\"Base model path updated to: {new_base_model_value}\")"
   ]
  },
  {
   "cell_type": "code",
   "execution_count": 52,
   "id": "345ab2cd",
   "metadata": {
    "execution": {
     "iopub.execute_input": "2024-12-03T20:01:54.683875Z",
     "iopub.status.busy": "2024-12-03T20:01:54.682982Z",
     "iopub.status.idle": "2024-12-03T20:01:54.689378Z",
     "shell.execute_reply": "2024-12-03T20:01:54.688488Z"
    },
    "papermill": {
     "duration": 0.024575,
     "end_time": "2024-12-03T20:01:54.691323",
     "exception": false,
     "start_time": "2024-12-03T20:01:54.666748",
     "status": "completed"
    },
    "tags": []
   },
   "outputs": [
    {
     "data": {
      "text/plain": [
       "'from huggingface_hub import upload_folder\\n\\n# Path to the local folder containing the model files\\nfolder_path = \"./fine-tuned-model-sentiment-clf\"  # Local path\\n\\n# Your Hugging Face repository ID\\nrepo_id = \"jayachandru001/sentiment_classification_using_llama_3.2_1B\"  # Use your actual repo_id\\n\\n# Upload the contents of the local folder to the Hugging Face repository\\nupload_folder(\\n    folder_path=folder_path,  # Local folder path containing your model\\n    repo_id=repo_id,  # Repo ID on Hugging Face\\n    path_in_repo=\".\",  # Root path in the repository\\n    commit_message=\"Uploading new fine-tuned model files\"  # Optional commit message\\n)\\n\\nprint(\"Model files successfully pushed to Hugging Face!\")\\n'"
      ]
     },
     "execution_count": 52,
     "metadata": {},
     "output_type": "execute_result"
    }
   ],
   "source": [
    "\"\"\"from huggingface_hub import upload_folder\n",
    "\n",
    "# Path to the local folder containing the model files\n",
    "folder_path = \"./fine-tuned-model-sentiment-clf\"  # Local path\n",
    "\n",
    "# Your Hugging Face repository ID\n",
    "repo_id = \"jayachandru001/sentiment_classification_using_llama_3.2_1B\"  # Use your actual repo_id\n",
    "\n",
    "# Upload the contents of the local folder to the Hugging Face repository\n",
    "upload_folder(\n",
    "    folder_path=folder_path,  # Local folder path containing your model\n",
    "    repo_id=repo_id,  # Repo ID on Hugging Face\n",
    "    path_in_repo=\".\",  # Root path in the repository\n",
    "    commit_message=\"Uploading new fine-tuned model files\"  # Optional commit message\n",
    ")\n",
    "\n",
    "print(\"Model files successfully pushed to Hugging Face!\")\n",
    "\"\"\""
   ]
  },
  {
   "cell_type": "code",
   "execution_count": 53,
   "id": "1b808af7",
   "metadata": {
    "execution": {
     "iopub.execute_input": "2024-12-03T20:01:54.724014Z",
     "iopub.status.busy": "2024-12-03T20:01:54.723163Z",
     "iopub.status.idle": "2024-12-03T20:01:54.727180Z",
     "shell.execute_reply": "2024-12-03T20:01:54.726489Z"
    },
    "papermill": {
     "duration": 0.021911,
     "end_time": "2024-12-03T20:01:54.728812",
     "exception": false,
     "start_time": "2024-12-03T20:01:54.706901",
     "status": "completed"
    },
    "tags": []
   },
   "outputs": [],
   "source": [
    "# lora_model.push_to_hub(repo_name, use_auth_token=True, force=True)"
   ]
  },
  {
   "cell_type": "markdown",
   "id": "83976b8a",
   "metadata": {
    "papermill": {
     "duration": 0.015122,
     "end_time": "2024-12-03T20:01:54.759509",
     "exception": false,
     "start_time": "2024-12-03T20:01:54.744387",
     "status": "completed"
    },
    "tags": []
   },
   "source": [
    "# <div style=\"padding: 30px;color:white;margin:10;font-size:60%;text-align:left;display:fill;border-radius:10px;overflow:hidden;background-color:#1496bb\"><b><span style='color:#F1A424'>000 |</span></b> Load and Test the Uploaded Sentiment Classification model from Hugging Face<b></b></div>"
   ]
  },
  {
   "cell_type": "code",
   "execution_count": 54,
   "id": "2856f1a6",
   "metadata": {
    "execution": {
     "iopub.execute_input": "2024-12-03T20:01:54.791680Z",
     "iopub.status.busy": "2024-12-03T20:01:54.791309Z",
     "iopub.status.idle": "2024-12-03T20:02:04.218504Z",
     "shell.execute_reply": "2024-12-03T20:02:04.217377Z"
    },
    "papermill": {
     "duration": 9.445538,
     "end_time": "2024-12-03T20:02:04.220765",
     "exception": false,
     "start_time": "2024-12-03T20:01:54.775227",
     "status": "completed"
    },
    "tags": []
   },
   "outputs": [
    {
     "name": "stdout",
     "output_type": "stream",
     "text": [
      "Requirement already satisfied: peft==0.8.2 in /opt/conda/lib/python3.10/site-packages (0.8.2)\r\n",
      "Requirement already satisfied: numpy>=1.17 in /opt/conda/lib/python3.10/site-packages (from peft==0.8.2) (1.26.4)\r\n",
      "Requirement already satisfied: packaging>=20.0 in /opt/conda/lib/python3.10/site-packages (from peft==0.8.2) (21.3)\r\n",
      "Requirement already satisfied: psutil in /opt/conda/lib/python3.10/site-packages (from peft==0.8.2) (5.9.3)\r\n",
      "Requirement already satisfied: pyyaml in /opt/conda/lib/python3.10/site-packages (from peft==0.8.2) (6.0.2)\r\n",
      "Requirement already satisfied: torch>=1.13.0 in /opt/conda/lib/python3.10/site-packages (from peft==0.8.2) (2.4.0)\r\n",
      "Requirement already satisfied: transformers in /opt/conda/lib/python3.10/site-packages (from peft==0.8.2) (4.43.1)\r\n",
      "Requirement already satisfied: tqdm in /opt/conda/lib/python3.10/site-packages (from peft==0.8.2) (4.66.4)\r\n",
      "Requirement already satisfied: accelerate>=0.21.0 in /opt/conda/lib/python3.10/site-packages (from peft==0.8.2) (0.34.2)\r\n",
      "Requirement already satisfied: safetensors in /opt/conda/lib/python3.10/site-packages (from peft==0.8.2) (0.4.5)\r\n",
      "Requirement already satisfied: huggingface-hub>=0.17.0 in /opt/conda/lib/python3.10/site-packages (from peft==0.8.2) (0.25.1)\r\n",
      "Requirement already satisfied: filelock in /opt/conda/lib/python3.10/site-packages (from huggingface-hub>=0.17.0->peft==0.8.2) (3.15.1)\r\n",
      "Requirement already satisfied: fsspec>=2023.5.0 in /opt/conda/lib/python3.10/site-packages (from huggingface-hub>=0.17.0->peft==0.8.2) (2023.10.0)\r\n",
      "Requirement already satisfied: requests in /opt/conda/lib/python3.10/site-packages (from huggingface-hub>=0.17.0->peft==0.8.2) (2.32.3)\r\n",
      "Requirement already satisfied: typing-extensions>=3.7.4.3 in /opt/conda/lib/python3.10/site-packages (from huggingface-hub>=0.17.0->peft==0.8.2) (4.12.2)\r\n",
      "Requirement already satisfied: pyparsing!=3.0.5,>=2.0.2 in /opt/conda/lib/python3.10/site-packages (from packaging>=20.0->peft==0.8.2) (3.1.2)\r\n",
      "Requirement already satisfied: sympy in /opt/conda/lib/python3.10/site-packages (from torch>=1.13.0->peft==0.8.2) (1.13.3)\r\n",
      "Requirement already satisfied: networkx in /opt/conda/lib/python3.10/site-packages (from torch>=1.13.0->peft==0.8.2) (3.3)\r\n",
      "Requirement already satisfied: jinja2 in /opt/conda/lib/python3.10/site-packages (from torch>=1.13.0->peft==0.8.2) (3.1.4)\r\n",
      "Requirement already satisfied: regex!=2019.12.17 in /opt/conda/lib/python3.10/site-packages (from transformers->peft==0.8.2) (2024.5.15)\r\n",
      "Requirement already satisfied: tokenizers<0.20,>=0.19 in /opt/conda/lib/python3.10/site-packages (from transformers->peft==0.8.2) (0.19.1)\r\n",
      "Requirement already satisfied: MarkupSafe>=2.0 in /opt/conda/lib/python3.10/site-packages (from jinja2->torch>=1.13.0->peft==0.8.2) (2.1.5)\r\n",
      "Requirement already satisfied: charset-normalizer<4,>=2 in /opt/conda/lib/python3.10/site-packages (from requests->huggingface-hub>=0.17.0->peft==0.8.2) (3.3.2)\r\n",
      "Requirement already satisfied: idna<4,>=2.5 in /opt/conda/lib/python3.10/site-packages (from requests->huggingface-hub>=0.17.0->peft==0.8.2) (3.7)\r\n",
      "Requirement already satisfied: urllib3<3,>=1.21.1 in /opt/conda/lib/python3.10/site-packages (from requests->huggingface-hub>=0.17.0->peft==0.8.2) (1.26.18)\r\n",
      "Requirement already satisfied: certifi>=2017.4.17 in /opt/conda/lib/python3.10/site-packages (from requests->huggingface-hub>=0.17.0->peft==0.8.2) (2024.8.30)\r\n",
      "Requirement already satisfied: mpmath<1.4,>=1.1.0 in /opt/conda/lib/python3.10/site-packages (from sympy->torch>=1.13.0->peft==0.8.2) (1.3.0)\r\n"
     ]
    }
   ],
   "source": [
    "!pip install -U peft==0.8.2"
   ]
  },
  {
   "cell_type": "code",
   "execution_count": null,
   "id": "37a06095",
   "metadata": {
    "execution": {
     "iopub.execute_input": "2024-12-03T07:37:11.006270Z",
     "iopub.status.busy": "2024-12-03T07:37:11.005818Z",
     "iopub.status.idle": "2024-12-03T07:37:14.362062Z",
     "shell.execute_reply": "2024-12-03T07:37:14.361032Z",
     "shell.execute_reply.started": "2024-12-03T07:37:11.006232Z"
    },
    "papermill": {
     "duration": 0.016838,
     "end_time": "2024-12-03T20:02:04.254966",
     "exception": false,
     "start_time": "2024-12-03T20:02:04.238128",
     "status": "completed"
    },
    "tags": []
   },
   "outputs": [],
   "source": []
  },
  {
   "cell_type": "code",
   "execution_count": 55,
   "id": "50b6abfe",
   "metadata": {
    "execution": {
     "iopub.execute_input": "2024-12-03T20:02:04.292075Z",
     "iopub.status.busy": "2024-12-03T20:02:04.291680Z",
     "iopub.status.idle": "2024-12-03T20:02:08.531896Z",
     "shell.execute_reply": "2024-12-03T20:02:08.531011Z"
    },
    "papermill": {
     "duration": 4.261273,
     "end_time": "2024-12-03T20:02:08.534046",
     "exception": false,
     "start_time": "2024-12-03T20:02:04.272773",
     "status": "completed"
    },
    "tags": []
   },
   "outputs": [
    {
     "name": "stderr",
     "output_type": "stream",
     "text": [
      "Some weights of LlamaForSequenceClassification were not initialized from the model checkpoint at /kaggle/input/llama-3.2/transformers/1b/1 and are newly initialized: ['score.weight']\n",
      "You should probably TRAIN this model on a down-stream task to be able to use it for predictions and inference.\n"
     ]
    },
    {
     "data": {
      "application/vnd.jupyter.widget-view+json": {
       "model_id": "11fc974b2a2e457fad18febb04470347",
       "version_major": 2,
       "version_minor": 0
      },
      "text/plain": [
       "adapter_config.json:   0%|          | 0.00/704 [00:00<?, ?B/s]"
      ]
     },
     "metadata": {},
     "output_type": "display_data"
    },
    {
     "data": {
      "application/vnd.jupyter.widget-view+json": {
       "model_id": "46af9b5a026a4cacbb949b2cedb793a8",
       "version_major": 2,
       "version_minor": 0
      },
      "text/plain": [
       "adapter_model.safetensors:   0%|          | 0.00/45.5M [00:00<?, ?B/s]"
      ]
     },
     "metadata": {},
     "output_type": "display_data"
    }
   ],
   "source": [
    "from transformers import AutoModelForCausalLM, AutoTokenizer, AutoModelForSequenceClassification\n",
    "from peft import PeftModel, PeftConfig\n",
    "from transformers import pipeline\n",
    "\n",
    "\n",
    "SEN_NUM_CLASSES = 3\n",
    "\n",
    "base_model_path = '/kaggle/input/llama-3.2/transformers/1b/1'\n",
    "loaded_tokenizer = AutoTokenizer.from_pretrained(base_model_path)\n",
    "\n",
    "loaded_base_model_sentiment = AutoModelForSequenceClassification.from_pretrained(base_model_path, num_labels=SEN_NUM_CLASSES,)\n",
    "\n",
    "adapter_path2 = \"jayachandru001/sentiment_classification_using_llama_3.2_1B_V2\"\n",
    "\n",
    "# Load the adapter configuration\n",
    "# peft_config = PeftConfig.from_pretrained(adapter_path2)\n",
    "\n",
    "# Attach the adapter to the base model\n",
    "sentimentClf = PeftModel.from_pretrained(loaded_base_model_sentiment, adapter_path2)\n",
    "\n",
    "# Verify the loaded model\n",
    "# print(loaded_model)"
   ]
  },
  {
   "cell_type": "code",
   "execution_count": 56,
   "id": "e70e645a",
   "metadata": {
    "execution": {
     "iopub.execute_input": "2024-12-03T20:02:08.570301Z",
     "iopub.status.busy": "2024-12-03T20:02:08.569970Z",
     "iopub.status.idle": "2024-12-03T20:02:08.576780Z",
     "shell.execute_reply": "2024-12-03T20:02:08.575909Z"
    },
    "papermill": {
     "duration": 0.027108,
     "end_time": "2024-12-03T20:02:08.578749",
     "exception": false,
     "start_time": "2024-12-03T20:02:08.551641",
     "status": "completed"
    },
    "tags": []
   },
   "outputs": [
    {
     "name": "stderr",
     "output_type": "stream",
     "text": [
      "Hardware accelerator e.g. GPU is available in the environment, but no `device` argument is passed to the `Pipeline` object. Model will be on CPU.\n",
      "The model 'PeftModelForSequenceClassification' is not supported for text-classification. Supported models are ['AlbertForSequenceClassification', 'BartForSequenceClassification', 'BertForSequenceClassification', 'BigBirdForSequenceClassification', 'BigBirdPegasusForSequenceClassification', 'BioGptForSequenceClassification', 'BloomForSequenceClassification', 'CamembertForSequenceClassification', 'CanineForSequenceClassification', 'LlamaForSequenceClassification', 'ConvBertForSequenceClassification', 'CTRLForSequenceClassification', 'Data2VecTextForSequenceClassification', 'DebertaForSequenceClassification', 'DebertaV2ForSequenceClassification', 'DistilBertForSequenceClassification', 'ElectraForSequenceClassification', 'ErnieForSequenceClassification', 'ErnieMForSequenceClassification', 'EsmForSequenceClassification', 'FalconForSequenceClassification', 'FlaubertForSequenceClassification', 'FNetForSequenceClassification', 'FunnelForSequenceClassification', 'GemmaForSequenceClassification', 'Gemma2ForSequenceClassification', 'GPT2ForSequenceClassification', 'GPT2ForSequenceClassification', 'GPTBigCodeForSequenceClassification', 'GPTNeoForSequenceClassification', 'GPTNeoXForSequenceClassification', 'GPTJForSequenceClassification', 'IBertForSequenceClassification', 'JambaForSequenceClassification', 'JetMoeForSequenceClassification', 'LayoutLMForSequenceClassification', 'LayoutLMv2ForSequenceClassification', 'LayoutLMv3ForSequenceClassification', 'LEDForSequenceClassification', 'LiltForSequenceClassification', 'LlamaForSequenceClassification', 'LongformerForSequenceClassification', 'LukeForSequenceClassification', 'MarkupLMForSequenceClassification', 'MBartForSequenceClassification', 'MegaForSequenceClassification', 'MegatronBertForSequenceClassification', 'MistralForSequenceClassification', 'MixtralForSequenceClassification', 'MobileBertForSequenceClassification', 'MPNetForSequenceClassification', 'MptForSequenceClassification', 'MraForSequenceClassification', 'MT5ForSequenceClassification', 'MvpForSequenceClassification', 'NezhaForSequenceClassification', 'NystromformerForSequenceClassification', 'OpenLlamaForSequenceClassification', 'OpenAIGPTForSequenceClassification', 'OPTForSequenceClassification', 'PerceiverForSequenceClassification', 'PersimmonForSequenceClassification', 'PhiForSequenceClassification', 'Phi3ForSequenceClassification', 'PLBartForSequenceClassification', 'QDQBertForSequenceClassification', 'Qwen2ForSequenceClassification', 'Qwen2MoeForSequenceClassification', 'ReformerForSequenceClassification', 'RemBertForSequenceClassification', 'RobertaForSequenceClassification', 'RobertaPreLayerNormForSequenceClassification', 'RoCBertForSequenceClassification', 'RoFormerForSequenceClassification', 'SqueezeBertForSequenceClassification', 'StableLmForSequenceClassification', 'Starcoder2ForSequenceClassification', 'T5ForSequenceClassification', 'TapasForSequenceClassification', 'TransfoXLForSequenceClassification', 'UMT5ForSequenceClassification', 'XLMForSequenceClassification', 'XLMRobertaForSequenceClassification', 'XLMRobertaXLForSequenceClassification', 'XLNetForSequenceClassification', 'XmodForSequenceClassification', 'YosoForSequenceClassification'].\n"
     ]
    }
   ],
   "source": [
    "sentiment_clf = pipeline(\"text-classification\", sentimentClf, tokenizer=loaded_tokenizer)"
   ]
  },
  {
   "cell_type": "code",
   "execution_count": 57,
   "id": "922e6ea2",
   "metadata": {
    "execution": {
     "iopub.execute_input": "2024-12-03T20:02:08.612023Z",
     "iopub.status.busy": "2024-12-03T20:02:08.611727Z",
     "iopub.status.idle": "2024-12-03T20:02:09.117919Z",
     "shell.execute_reply": "2024-12-03T20:02:09.116941Z"
    },
    "papermill": {
     "duration": 0.524769,
     "end_time": "2024-12-03T20:02:09.119885",
     "exception": false,
     "start_time": "2024-12-03T20:02:08.595116",
     "status": "completed"
    },
    "tags": []
   },
   "outputs": [
    {
     "data": {
      "text/plain": [
       "[{'label': 'LABEL_2', 'score': 0.996167004108429}]"
      ]
     },
     "execution_count": 57,
     "metadata": {},
     "output_type": "execute_result"
    }
   ],
   "source": [
    "sentiment_clf(\"I am not feeling well\")"
   ]
  },
  {
   "cell_type": "markdown",
   "id": "94563470",
   "metadata": {
    "papermill": {
     "duration": 0.016556,
     "end_time": "2024-12-03T20:02:09.154189",
     "exception": false,
     "start_time": "2024-12-03T20:02:09.137633",
     "status": "completed"
    },
    "tags": []
   },
   "source": [
    "<div style=\"padding: 30px;color:white;margin:10;font-size:60%;text-align:left;display:fill;border-radius:10px;overflow:hidden;background-color:#1496bb\">\n",
    "  <b><span style='color:#F1A424'>🚀</span></b> \n",
    "  <b>Ready to Experience the AI Conversations?</b><br>\n",
    "  🔮 <b>Click here to ask your own Empathetic AI Chatbot in the Cloud!</b> 🌐<br>\n",
    "  💬 <b>Get personalized, compassionate responses in real-time with Gradio.</b> 🔥<br><br>\n",
    "  <a href=\"https://huggingface.co/spaces/jayachandru001/Empathetic-AI-Bot\" style=\"color:white;text-decoration:none;font-size:18px;font-weight:bold;background-color:#F1A424;padding:10px 20px;border-radius:5px;\">Launch Your AI Bot Now!</a>\n",
    "</div>\n"
   ]
  }
 ],
 "metadata": {
  "kaggle": {
   "accelerator": "gpu",
   "dataSources": [
    {
     "datasetId": 6211584,
     "sourceId": 10076768,
     "sourceType": "datasetVersion"
    },
    {
     "isSourceIdPinned": true,
     "modelId": 121027,
     "modelInstanceId": 100931,
     "sourceId": 120000,
     "sourceType": "modelInstanceVersion"
    }
   ],
   "dockerImageVersionId": 30787,
   "isGpuEnabled": true,
   "isInternetEnabled": true,
   "language": "python",
   "sourceType": "notebook"
  },
  "kernelspec": {
   "display_name": "Python 3",
   "language": "python",
   "name": "python3"
  },
  "language_info": {
   "codemirror_mode": {
    "name": "ipython",
    "version": 3
   },
   "file_extension": ".py",
   "mimetype": "text/x-python",
   "name": "python",
   "nbconvert_exporter": "python",
   "pygments_lexer": "ipython3",
   "version": "3.10.14"
  },
  "papermill": {
   "default_parameters": {},
   "duration": 5000.823921,
   "end_time": "2024-12-03T20:02:12.529316",
   "environment_variables": {},
   "exception": null,
   "input_path": "__notebook__.ipynb",
   "output_path": "__notebook__.ipynb",
   "parameters": {},
   "start_time": "2024-12-03T18:38:51.705395",
   "version": "2.6.0"
  },
  "widgets": {
   "application/vnd.jupyter.widget-state+json": {
    "state": {
     "007abbe21795444fbfd4155b964a7106": {
      "model_module": "@jupyter-widgets/base",
      "model_module_version": "1.2.0",
      "model_name": "LayoutModel",
      "state": {
       "_model_module": "@jupyter-widgets/base",
       "_model_module_version": "1.2.0",
       "_model_name": "LayoutModel",
       "_view_count": null,
       "_view_module": "@jupyter-widgets/base",
       "_view_module_version": "1.2.0",
       "_view_name": "LayoutView",
       "align_content": null,
       "align_items": null,
       "align_self": null,
       "border": null,
       "bottom": null,
       "display": null,
       "flex": null,
       "flex_flow": null,
       "grid_area": null,
       "grid_auto_columns": null,
       "grid_auto_flow": null,
       "grid_auto_rows": null,
       "grid_column": null,
       "grid_gap": null,
       "grid_row": null,
       "grid_template_areas": null,
       "grid_template_columns": null,
       "grid_template_rows": null,
       "height": null,
       "justify_content": null,
       "justify_items": null,
       "left": null,
       "margin": null,
       "max_height": null,
       "max_width": null,
       "min_height": null,
       "min_width": null,
       "object_fit": null,
       "object_position": null,
       "order": null,
       "overflow": null,
       "overflow_x": null,
       "overflow_y": null,
       "padding": null,
       "right": null,
       "top": null,
       "visibility": null,
       "width": null
      }
     },
     "0183d37e8c644fae82239a94476ee9b1": {
      "model_module": "@jupyter-widgets/controls",
      "model_module_version": "1.5.0",
      "model_name": "HTMLModel",
      "state": {
       "_dom_classes": [],
       "_model_module": "@jupyter-widgets/controls",
       "_model_module_version": "1.5.0",
       "_model_name": "HTMLModel",
       "_view_count": null,
       "_view_module": "@jupyter-widgets/controls",
       "_view_module_version": "1.5.0",
       "_view_name": "HTMLView",
       "description": "",
       "description_tooltip": null,
       "layout": "IPY_MODEL_24beb056d5024744adf84953cc97b757",
       "placeholder": "​",
       "style": "IPY_MODEL_187300a4b9374931b5cf016b2aa566d1",
       "value": " 3534/3534 [00:00&lt;00:00, 16003.63 examples/s]"
      }
     },
     "0e8d56df36244af691ee106e7c673494": {
      "model_module": "@jupyter-widgets/controls",
      "model_module_version": "1.5.0",
      "model_name": "DescriptionStyleModel",
      "state": {
       "_model_module": "@jupyter-widgets/controls",
       "_model_module_version": "1.5.0",
       "_model_name": "DescriptionStyleModel",
       "_view_count": null,
       "_view_module": "@jupyter-widgets/base",
       "_view_module_version": "1.2.0",
       "_view_name": "StyleView",
       "description_width": ""
      }
     },
     "0ffc88cd10a2460ebae71273b82abf5d": {
      "model_module": "@jupyter-widgets/controls",
      "model_module_version": "1.5.0",
      "model_name": "FloatProgressModel",
      "state": {
       "_dom_classes": [],
       "_model_module": "@jupyter-widgets/controls",
       "_model_module_version": "1.5.0",
       "_model_name": "FloatProgressModel",
       "_view_count": null,
       "_view_module": "@jupyter-widgets/controls",
       "_view_module_version": "1.5.0",
       "_view_name": "ProgressView",
       "bar_style": "success",
       "description": "",
       "description_tooltip": null,
       "layout": "IPY_MODEL_e6d0066c474141ca858833b1d79cf967",
       "max": 3534.0,
       "min": 0.0,
       "orientation": "horizontal",
       "style": "IPY_MODEL_1de03b1c31b14a52bfa23315b6b8d87b",
       "value": 3534.0
      }
     },
     "11fc974b2a2e457fad18febb04470347": {
      "model_module": "@jupyter-widgets/controls",
      "model_module_version": "1.5.0",
      "model_name": "HBoxModel",
      "state": {
       "_dom_classes": [],
       "_model_module": "@jupyter-widgets/controls",
       "_model_module_version": "1.5.0",
       "_model_name": "HBoxModel",
       "_view_count": null,
       "_view_module": "@jupyter-widgets/controls",
       "_view_module_version": "1.5.0",
       "_view_name": "HBoxView",
       "box_style": "",
       "children": [
        "IPY_MODEL_538cae58d7c04dae916a9c137ef67147",
        "IPY_MODEL_86a1ae47a1f949e4b4c412b895c48fc9",
        "IPY_MODEL_b9b7c7a33b8f4be89a80ca706c8e96a6"
       ],
       "layout": "IPY_MODEL_a0fde70fbb4544ecb1e2965164511acf"
      }
     },
     "1344c271e9fb49a28ac4aed619704843": {
      "model_module": "@jupyter-widgets/controls",
      "model_module_version": "1.5.0",
      "model_name": "DescriptionStyleModel",
      "state": {
       "_model_module": "@jupyter-widgets/controls",
       "_model_module_version": "1.5.0",
       "_model_name": "DescriptionStyleModel",
       "_view_count": null,
       "_view_module": "@jupyter-widgets/base",
       "_view_module_version": "1.2.0",
       "_view_name": "StyleView",
       "description_width": ""
      }
     },
     "167ad26531254e9c87bcfa6b91801e2f": {
      "model_module": "@jupyter-widgets/controls",
      "model_module_version": "1.5.0",
      "model_name": "HBoxModel",
      "state": {
       "_dom_classes": [],
       "_model_module": "@jupyter-widgets/controls",
       "_model_module_version": "1.5.0",
       "_model_name": "HBoxModel",
       "_view_count": null,
       "_view_module": "@jupyter-widgets/controls",
       "_view_module_version": "1.5.0",
       "_view_name": "HBoxView",
       "box_style": "",
       "children": [
        "IPY_MODEL_5db97bb3f13f4100bd6c30067554fd3e",
        "IPY_MODEL_374c26900c2345e4876f3caa101ac9fd",
        "IPY_MODEL_8a792c769f7548a9b2c03e3661d4d2dc"
       ],
       "layout": "IPY_MODEL_80083d2198744dcea690a3cdf035fdc0"
      }
     },
     "187300a4b9374931b5cf016b2aa566d1": {
      "model_module": "@jupyter-widgets/controls",
      "model_module_version": "1.5.0",
      "model_name": "DescriptionStyleModel",
      "state": {
       "_model_module": "@jupyter-widgets/controls",
       "_model_module_version": "1.5.0",
       "_model_name": "DescriptionStyleModel",
       "_view_count": null,
       "_view_module": "@jupyter-widgets/base",
       "_view_module_version": "1.2.0",
       "_view_name": "StyleView",
       "description_width": ""
      }
     },
     "1c833793484c4ee89197740f383a4df0": {
      "model_module": "@jupyter-widgets/controls",
      "model_module_version": "1.5.0",
      "model_name": "HTMLModel",
      "state": {
       "_dom_classes": [],
       "_model_module": "@jupyter-widgets/controls",
       "_model_module_version": "1.5.0",
       "_model_name": "HTMLModel",
       "_view_count": null,
       "_view_module": "@jupyter-widgets/controls",
       "_view_module_version": "1.5.0",
       "_view_name": "HTMLView",
       "description": "",
       "description_tooltip": null,
       "layout": "IPY_MODEL_7cffce27704d4f40b8e6042e3085adc7",
       "placeholder": "​",
       "style": "IPY_MODEL_e2735884984c4959abd1404029ba0cdd",
       "value": "Map: 100%"
      }
     },
     "1de03b1c31b14a52bfa23315b6b8d87b": {
      "model_module": "@jupyter-widgets/controls",
      "model_module_version": "1.5.0",
      "model_name": "ProgressStyleModel",
      "state": {
       "_model_module": "@jupyter-widgets/controls",
       "_model_module_version": "1.5.0",
       "_model_name": "ProgressStyleModel",
       "_view_count": null,
       "_view_module": "@jupyter-widgets/base",
       "_view_module_version": "1.2.0",
       "_view_name": "StyleView",
       "bar_color": null,
       "description_width": ""
      }
     },
     "24beb056d5024744adf84953cc97b757": {
      "model_module": "@jupyter-widgets/base",
      "model_module_version": "1.2.0",
      "model_name": "LayoutModel",
      "state": {
       "_model_module": "@jupyter-widgets/base",
       "_model_module_version": "1.2.0",
       "_model_name": "LayoutModel",
       "_view_count": null,
       "_view_module": "@jupyter-widgets/base",
       "_view_module_version": "1.2.0",
       "_view_name": "LayoutView",
       "align_content": null,
       "align_items": null,
       "align_self": null,
       "border": null,
       "bottom": null,
       "display": null,
       "flex": null,
       "flex_flow": null,
       "grid_area": null,
       "grid_auto_columns": null,
       "grid_auto_flow": null,
       "grid_auto_rows": null,
       "grid_column": null,
       "grid_gap": null,
       "grid_row": null,
       "grid_template_areas": null,
       "grid_template_columns": null,
       "grid_template_rows": null,
       "height": null,
       "justify_content": null,
       "justify_items": null,
       "left": null,
       "margin": null,
       "max_height": null,
       "max_width": null,
       "min_height": null,
       "min_width": null,
       "object_fit": null,
       "object_position": null,
       "order": null,
       "overflow": null,
       "overflow_x": null,
       "overflow_y": null,
       "padding": null,
       "right": null,
       "top": null,
       "visibility": null,
       "width": null
      }
     },
     "276140c2168d493687e40e7f5668b9c1": {
      "model_module": "@jupyter-widgets/controls",
      "model_module_version": "1.5.0",
      "model_name": "HTMLModel",
      "state": {
       "_dom_classes": [],
       "_model_module": "@jupyter-widgets/controls",
       "_model_module_version": "1.5.0",
       "_model_name": "HTMLModel",
       "_view_count": null,
       "_view_module": "@jupyter-widgets/controls",
       "_view_module_version": "1.5.0",
       "_view_name": "HTMLView",
       "description": "",
       "description_tooltip": null,
       "layout": "IPY_MODEL_68bc16fea60d4b81b2f580f176e3de97",
       "placeholder": "​",
       "style": "IPY_MODEL_5da6f01900654f53a9b1fc277e17fc18",
       "value": " 27480/27480 [00:01&lt;00:00, 17828.44 examples/s]"
      }
     },
     "374c26900c2345e4876f3caa101ac9fd": {
      "model_module": "@jupyter-widgets/controls",
      "model_module_version": "1.5.0",
      "model_name": "FloatProgressModel",
      "state": {
       "_dom_classes": [],
       "_model_module": "@jupyter-widgets/controls",
       "_model_module_version": "1.5.0",
       "_model_name": "FloatProgressModel",
       "_view_count": null,
       "_view_module": "@jupyter-widgets/controls",
       "_view_module_version": "1.5.0",
       "_view_name": "ProgressView",
       "bar_style": "success",
       "description": "",
       "description_tooltip": null,
       "layout": "IPY_MODEL_6f4d204a666c4ae0a96d66d8f8b4523e",
       "max": 3534.0,
       "min": 0.0,
       "orientation": "horizontal",
       "style": "IPY_MODEL_ea4dc5db34f2479b914926a13c334210",
       "value": 3534.0
      }
     },
     "3776a40b1e934ab992fee794f4c4d1c7": {
      "model_module": "@jupyter-widgets/controls",
      "model_module_version": "1.5.0",
      "model_name": "DescriptionStyleModel",
      "state": {
       "_model_module": "@jupyter-widgets/controls",
       "_model_module_version": "1.5.0",
       "_model_name": "DescriptionStyleModel",
       "_view_count": null,
       "_view_module": "@jupyter-widgets/base",
       "_view_module_version": "1.2.0",
       "_view_name": "StyleView",
       "description_width": ""
      }
     },
     "39ba08c9e73841729556b18be6670009": {
      "model_module": "@jupyter-widgets/controls",
      "model_module_version": "1.5.0",
      "model_name": "DescriptionStyleModel",
      "state": {
       "_model_module": "@jupyter-widgets/controls",
       "_model_module_version": "1.5.0",
       "_model_name": "DescriptionStyleModel",
       "_view_count": null,
       "_view_module": "@jupyter-widgets/base",
       "_view_module_version": "1.2.0",
       "_view_name": "StyleView",
       "description_width": ""
      }
     },
     "3a7e6fdaf83d46f5a88fc7cd1a63edb2": {
      "model_module": "@jupyter-widgets/controls",
      "model_module_version": "1.5.0",
      "model_name": "DescriptionStyleModel",
      "state": {
       "_model_module": "@jupyter-widgets/controls",
       "_model_module_version": "1.5.0",
       "_model_name": "DescriptionStyleModel",
       "_view_count": null,
       "_view_module": "@jupyter-widgets/base",
       "_view_module_version": "1.2.0",
       "_view_name": "StyleView",
       "description_width": ""
      }
     },
     "4191a9c3a392459f8a13e02a20537de7": {
      "model_module": "@jupyter-widgets/controls",
      "model_module_version": "1.5.0",
      "model_name": "HBoxModel",
      "state": {
       "_dom_classes": [],
       "_model_module": "@jupyter-widgets/controls",
       "_model_module_version": "1.5.0",
       "_model_name": "HBoxModel",
       "_view_count": null,
       "_view_module": "@jupyter-widgets/controls",
       "_view_module_version": "1.5.0",
       "_view_name": "HBoxView",
       "box_style": "",
       "children": [
        "IPY_MODEL_1c833793484c4ee89197740f383a4df0",
        "IPY_MODEL_0ffc88cd10a2460ebae71273b82abf5d",
        "IPY_MODEL_0183d37e8c644fae82239a94476ee9b1"
       ],
       "layout": "IPY_MODEL_d322727d3c7248f4a9fb5f60a0518088"
      }
     },
     "42977af0406a4772b3b12b33101d1a8b": {
      "model_module": "@jupyter-widgets/controls",
      "model_module_version": "1.5.0",
      "model_name": "FloatProgressModel",
      "state": {
       "_dom_classes": [],
       "_model_module": "@jupyter-widgets/controls",
       "_model_module_version": "1.5.0",
       "_model_name": "FloatProgressModel",
       "_view_count": null,
       "_view_module": "@jupyter-widgets/controls",
       "_view_module_version": "1.5.0",
       "_view_name": "ProgressView",
       "bar_style": "success",
       "description": "",
       "description_tooltip": null,
       "layout": "IPY_MODEL_e43a47aecc9e41daa32e8d1d42b7a397",
       "max": 45537600.0,
       "min": 0.0,
       "orientation": "horizontal",
       "style": "IPY_MODEL_46794f53398b46c3a7d61afe5acbde7b",
       "value": 45537600.0
      }
     },
     "46794f53398b46c3a7d61afe5acbde7b": {
      "model_module": "@jupyter-widgets/controls",
      "model_module_version": "1.5.0",
      "model_name": "ProgressStyleModel",
      "state": {
       "_model_module": "@jupyter-widgets/controls",
       "_model_module_version": "1.5.0",
       "_model_name": "ProgressStyleModel",
       "_view_count": null,
       "_view_module": "@jupyter-widgets/base",
       "_view_module_version": "1.2.0",
       "_view_name": "StyleView",
       "bar_color": null,
       "description_width": ""
      }
     },
     "46af9b5a026a4cacbb949b2cedb793a8": {
      "model_module": "@jupyter-widgets/controls",
      "model_module_version": "1.5.0",
      "model_name": "HBoxModel",
      "state": {
       "_dom_classes": [],
       "_model_module": "@jupyter-widgets/controls",
       "_model_module_version": "1.5.0",
       "_model_name": "HBoxModel",
       "_view_count": null,
       "_view_module": "@jupyter-widgets/controls",
       "_view_module_version": "1.5.0",
       "_view_name": "HBoxView",
       "box_style": "",
       "children": [
        "IPY_MODEL_ffb4c075ea874144b6df6bb752306b9a",
        "IPY_MODEL_42977af0406a4772b3b12b33101d1a8b",
        "IPY_MODEL_ad44f5ed9a294cd5b919575229c66068"
       ],
       "layout": "IPY_MODEL_007abbe21795444fbfd4155b964a7106"
      }
     },
     "4b939c57ec994bf78b033eafd7209bcf": {
      "model_module": "@jupyter-widgets/controls",
      "model_module_version": "1.5.0",
      "model_name": "ProgressStyleModel",
      "state": {
       "_model_module": "@jupyter-widgets/controls",
       "_model_module_version": "1.5.0",
       "_model_name": "ProgressStyleModel",
       "_view_count": null,
       "_view_module": "@jupyter-widgets/base",
       "_view_module_version": "1.2.0",
       "_view_name": "StyleView",
       "bar_color": null,
       "description_width": ""
      }
     },
     "538cae58d7c04dae916a9c137ef67147": {
      "model_module": "@jupyter-widgets/controls",
      "model_module_version": "1.5.0",
      "model_name": "HTMLModel",
      "state": {
       "_dom_classes": [],
       "_model_module": "@jupyter-widgets/controls",
       "_model_module_version": "1.5.0",
       "_model_name": "HTMLModel",
       "_view_count": null,
       "_view_module": "@jupyter-widgets/controls",
       "_view_module_version": "1.5.0",
       "_view_name": "HTMLView",
       "description": "",
       "description_tooltip": null,
       "layout": "IPY_MODEL_fc8bbea51efe442cb15f9a87f7db7915",
       "placeholder": "​",
       "style": "IPY_MODEL_3a7e6fdaf83d46f5a88fc7cd1a63edb2",
       "value": "adapter_config.json: 100%"
      }
     },
     "5da6f01900654f53a9b1fc277e17fc18": {
      "model_module": "@jupyter-widgets/controls",
      "model_module_version": "1.5.0",
      "model_name": "DescriptionStyleModel",
      "state": {
       "_model_module": "@jupyter-widgets/controls",
       "_model_module_version": "1.5.0",
       "_model_name": "DescriptionStyleModel",
       "_view_count": null,
       "_view_module": "@jupyter-widgets/base",
       "_view_module_version": "1.2.0",
       "_view_name": "StyleView",
       "description_width": ""
      }
     },
     "5db97bb3f13f4100bd6c30067554fd3e": {
      "model_module": "@jupyter-widgets/controls",
      "model_module_version": "1.5.0",
      "model_name": "HTMLModel",
      "state": {
       "_dom_classes": [],
       "_model_module": "@jupyter-widgets/controls",
       "_model_module_version": "1.5.0",
       "_model_name": "HTMLModel",
       "_view_count": null,
       "_view_module": "@jupyter-widgets/controls",
       "_view_module_version": "1.5.0",
       "_view_name": "HTMLView",
       "description": "",
       "description_tooltip": null,
       "layout": "IPY_MODEL_f56a60b44ae14e8e8a3e2132ce4eb48c",
       "placeholder": "​",
       "style": "IPY_MODEL_0e8d56df36244af691ee106e7c673494",
       "value": "Map: 100%"
      }
     },
     "68bc16fea60d4b81b2f580f176e3de97": {
      "model_module": "@jupyter-widgets/base",
      "model_module_version": "1.2.0",
      "model_name": "LayoutModel",
      "state": {
       "_model_module": "@jupyter-widgets/base",
       "_model_module_version": "1.2.0",
       "_model_name": "LayoutModel",
       "_view_count": null,
       "_view_module": "@jupyter-widgets/base",
       "_view_module_version": "1.2.0",
       "_view_name": "LayoutView",
       "align_content": null,
       "align_items": null,
       "align_self": null,
       "border": null,
       "bottom": null,
       "display": null,
       "flex": null,
       "flex_flow": null,
       "grid_area": null,
       "grid_auto_columns": null,
       "grid_auto_flow": null,
       "grid_auto_rows": null,
       "grid_column": null,
       "grid_gap": null,
       "grid_row": null,
       "grid_template_areas": null,
       "grid_template_columns": null,
       "grid_template_rows": null,
       "height": null,
       "justify_content": null,
       "justify_items": null,
       "left": null,
       "margin": null,
       "max_height": null,
       "max_width": null,
       "min_height": null,
       "min_width": null,
       "object_fit": null,
       "object_position": null,
       "order": null,
       "overflow": null,
       "overflow_x": null,
       "overflow_y": null,
       "padding": null,
       "right": null,
       "top": null,
       "visibility": null,
       "width": null
      }
     },
     "6f4d204a666c4ae0a96d66d8f8b4523e": {
      "model_module": "@jupyter-widgets/base",
      "model_module_version": "1.2.0",
      "model_name": "LayoutModel",
      "state": {
       "_model_module": "@jupyter-widgets/base",
       "_model_module_version": "1.2.0",
       "_model_name": "LayoutModel",
       "_view_count": null,
       "_view_module": "@jupyter-widgets/base",
       "_view_module_version": "1.2.0",
       "_view_name": "LayoutView",
       "align_content": null,
       "align_items": null,
       "align_self": null,
       "border": null,
       "bottom": null,
       "display": null,
       "flex": null,
       "flex_flow": null,
       "grid_area": null,
       "grid_auto_columns": null,
       "grid_auto_flow": null,
       "grid_auto_rows": null,
       "grid_column": null,
       "grid_gap": null,
       "grid_row": null,
       "grid_template_areas": null,
       "grid_template_columns": null,
       "grid_template_rows": null,
       "height": null,
       "justify_content": null,
       "justify_items": null,
       "left": null,
       "margin": null,
       "max_height": null,
       "max_width": null,
       "min_height": null,
       "min_width": null,
       "object_fit": null,
       "object_position": null,
       "order": null,
       "overflow": null,
       "overflow_x": null,
       "overflow_y": null,
       "padding": null,
       "right": null,
       "top": null,
       "visibility": null,
       "width": null
      }
     },
     "79b83ca169034e5fbc0df393b6682eef": {
      "model_module": "@jupyter-widgets/controls",
      "model_module_version": "1.5.0",
      "model_name": "HBoxModel",
      "state": {
       "_dom_classes": [],
       "_model_module": "@jupyter-widgets/controls",
       "_model_module_version": "1.5.0",
       "_model_name": "HBoxModel",
       "_view_count": null,
       "_view_module": "@jupyter-widgets/controls",
       "_view_module_version": "1.5.0",
       "_view_name": "HBoxView",
       "box_style": "",
       "children": [
        "IPY_MODEL_f0ab0b744c864a2aa4fcb3dfc5d2aa7a",
        "IPY_MODEL_ffff395c80534a59813ecd7fdd0b9204",
        "IPY_MODEL_276140c2168d493687e40e7f5668b9c1"
       ],
       "layout": "IPY_MODEL_8a6926f5819047ddb130fcefc98486bf"
      }
     },
     "7cffce27704d4f40b8e6042e3085adc7": {
      "model_module": "@jupyter-widgets/base",
      "model_module_version": "1.2.0",
      "model_name": "LayoutModel",
      "state": {
       "_model_module": "@jupyter-widgets/base",
       "_model_module_version": "1.2.0",
       "_model_name": "LayoutModel",
       "_view_count": null,
       "_view_module": "@jupyter-widgets/base",
       "_view_module_version": "1.2.0",
       "_view_name": "LayoutView",
       "align_content": null,
       "align_items": null,
       "align_self": null,
       "border": null,
       "bottom": null,
       "display": null,
       "flex": null,
       "flex_flow": null,
       "grid_area": null,
       "grid_auto_columns": null,
       "grid_auto_flow": null,
       "grid_auto_rows": null,
       "grid_column": null,
       "grid_gap": null,
       "grid_row": null,
       "grid_template_areas": null,
       "grid_template_columns": null,
       "grid_template_rows": null,
       "height": null,
       "justify_content": null,
       "justify_items": null,
       "left": null,
       "margin": null,
       "max_height": null,
       "max_width": null,
       "min_height": null,
       "min_width": null,
       "object_fit": null,
       "object_position": null,
       "order": null,
       "overflow": null,
       "overflow_x": null,
       "overflow_y": null,
       "padding": null,
       "right": null,
       "top": null,
       "visibility": null,
       "width": null
      }
     },
     "80083d2198744dcea690a3cdf035fdc0": {
      "model_module": "@jupyter-widgets/base",
      "model_module_version": "1.2.0",
      "model_name": "LayoutModel",
      "state": {
       "_model_module": "@jupyter-widgets/base",
       "_model_module_version": "1.2.0",
       "_model_name": "LayoutModel",
       "_view_count": null,
       "_view_module": "@jupyter-widgets/base",
       "_view_module_version": "1.2.0",
       "_view_name": "LayoutView",
       "align_content": null,
       "align_items": null,
       "align_self": null,
       "border": null,
       "bottom": null,
       "display": null,
       "flex": null,
       "flex_flow": null,
       "grid_area": null,
       "grid_auto_columns": null,
       "grid_auto_flow": null,
       "grid_auto_rows": null,
       "grid_column": null,
       "grid_gap": null,
       "grid_row": null,
       "grid_template_areas": null,
       "grid_template_columns": null,
       "grid_template_rows": null,
       "height": null,
       "justify_content": null,
       "justify_items": null,
       "left": null,
       "margin": null,
       "max_height": null,
       "max_width": null,
       "min_height": null,
       "min_width": null,
       "object_fit": null,
       "object_position": null,
       "order": null,
       "overflow": null,
       "overflow_x": null,
       "overflow_y": null,
       "padding": null,
       "right": null,
       "top": null,
       "visibility": null,
       "width": null
      }
     },
     "8346bdbc05074047b8dcef3242d09f8b": {
      "model_module": "@jupyter-widgets/controls",
      "model_module_version": "1.5.0",
      "model_name": "DescriptionStyleModel",
      "state": {
       "_model_module": "@jupyter-widgets/controls",
       "_model_module_version": "1.5.0",
       "_model_name": "DescriptionStyleModel",
       "_view_count": null,
       "_view_module": "@jupyter-widgets/base",
       "_view_module_version": "1.2.0",
       "_view_name": "StyleView",
       "description_width": ""
      }
     },
     "86a1ae47a1f949e4b4c412b895c48fc9": {
      "model_module": "@jupyter-widgets/controls",
      "model_module_version": "1.5.0",
      "model_name": "FloatProgressModel",
      "state": {
       "_dom_classes": [],
       "_model_module": "@jupyter-widgets/controls",
       "_model_module_version": "1.5.0",
       "_model_name": "FloatProgressModel",
       "_view_count": null,
       "_view_module": "@jupyter-widgets/controls",
       "_view_module_version": "1.5.0",
       "_view_name": "ProgressView",
       "bar_style": "success",
       "description": "",
       "description_tooltip": null,
       "layout": "IPY_MODEL_b4c71c2862224691929489ae74e80103",
       "max": 704.0,
       "min": 0.0,
       "orientation": "horizontal",
       "style": "IPY_MODEL_4b939c57ec994bf78b033eafd7209bcf",
       "value": 704.0
      }
     },
     "8a6926f5819047ddb130fcefc98486bf": {
      "model_module": "@jupyter-widgets/base",
      "model_module_version": "1.2.0",
      "model_name": "LayoutModel",
      "state": {
       "_model_module": "@jupyter-widgets/base",
       "_model_module_version": "1.2.0",
       "_model_name": "LayoutModel",
       "_view_count": null,
       "_view_module": "@jupyter-widgets/base",
       "_view_module_version": "1.2.0",
       "_view_name": "LayoutView",
       "align_content": null,
       "align_items": null,
       "align_self": null,
       "border": null,
       "bottom": null,
       "display": null,
       "flex": null,
       "flex_flow": null,
       "grid_area": null,
       "grid_auto_columns": null,
       "grid_auto_flow": null,
       "grid_auto_rows": null,
       "grid_column": null,
       "grid_gap": null,
       "grid_row": null,
       "grid_template_areas": null,
       "grid_template_columns": null,
       "grid_template_rows": null,
       "height": null,
       "justify_content": null,
       "justify_items": null,
       "left": null,
       "margin": null,
       "max_height": null,
       "max_width": null,
       "min_height": null,
       "min_width": null,
       "object_fit": null,
       "object_position": null,
       "order": null,
       "overflow": null,
       "overflow_x": null,
       "overflow_y": null,
       "padding": null,
       "right": null,
       "top": null,
       "visibility": null,
       "width": null
      }
     },
     "8a792c769f7548a9b2c03e3661d4d2dc": {
      "model_module": "@jupyter-widgets/controls",
      "model_module_version": "1.5.0",
      "model_name": "HTMLModel",
      "state": {
       "_dom_classes": [],
       "_model_module": "@jupyter-widgets/controls",
       "_model_module_version": "1.5.0",
       "_model_name": "HTMLModel",
       "_view_count": null,
       "_view_module": "@jupyter-widgets/controls",
       "_view_module_version": "1.5.0",
       "_view_name": "HTMLView",
       "description": "",
       "description_tooltip": null,
       "layout": "IPY_MODEL_c3d4723f9fd3451d989b69fc686418e4",
       "placeholder": "​",
       "style": "IPY_MODEL_3776a40b1e934ab992fee794f4c4d1c7",
       "value": " 3534/3534 [08:24&lt;00:00,  7.00 examples/s]"
      }
     },
     "980c2f8b855347bfb6ccb97bcd2a9ece": {
      "model_module": "@jupyter-widgets/controls",
      "model_module_version": "1.5.0",
      "model_name": "ProgressStyleModel",
      "state": {
       "_model_module": "@jupyter-widgets/controls",
       "_model_module_version": "1.5.0",
       "_model_name": "ProgressStyleModel",
       "_view_count": null,
       "_view_module": "@jupyter-widgets/base",
       "_view_module_version": "1.2.0",
       "_view_name": "StyleView",
       "bar_color": null,
       "description_width": ""
      }
     },
     "983f7da0e73e4843941adb1d428b5a03": {
      "model_module": "@jupyter-widgets/base",
      "model_module_version": "1.2.0",
      "model_name": "LayoutModel",
      "state": {
       "_model_module": "@jupyter-widgets/base",
       "_model_module_version": "1.2.0",
       "_model_name": "LayoutModel",
       "_view_count": null,
       "_view_module": "@jupyter-widgets/base",
       "_view_module_version": "1.2.0",
       "_view_name": "LayoutView",
       "align_content": null,
       "align_items": null,
       "align_self": null,
       "border": null,
       "bottom": null,
       "display": null,
       "flex": null,
       "flex_flow": null,
       "grid_area": null,
       "grid_auto_columns": null,
       "grid_auto_flow": null,
       "grid_auto_rows": null,
       "grid_column": null,
       "grid_gap": null,
       "grid_row": null,
       "grid_template_areas": null,
       "grid_template_columns": null,
       "grid_template_rows": null,
       "height": null,
       "justify_content": null,
       "justify_items": null,
       "left": null,
       "margin": null,
       "max_height": null,
       "max_width": null,
       "min_height": null,
       "min_width": null,
       "object_fit": null,
       "object_position": null,
       "order": null,
       "overflow": null,
       "overflow_x": null,
       "overflow_y": null,
       "padding": null,
       "right": null,
       "top": null,
       "visibility": null,
       "width": null
      }
     },
     "986763851eab41e58a2586191d057bc2": {
      "model_module": "@jupyter-widgets/base",
      "model_module_version": "1.2.0",
      "model_name": "LayoutModel",
      "state": {
       "_model_module": "@jupyter-widgets/base",
       "_model_module_version": "1.2.0",
       "_model_name": "LayoutModel",
       "_view_count": null,
       "_view_module": "@jupyter-widgets/base",
       "_view_module_version": "1.2.0",
       "_view_name": "LayoutView",
       "align_content": null,
       "align_items": null,
       "align_self": null,
       "border": null,
       "bottom": null,
       "display": null,
       "flex": null,
       "flex_flow": null,
       "grid_area": null,
       "grid_auto_columns": null,
       "grid_auto_flow": null,
       "grid_auto_rows": null,
       "grid_column": null,
       "grid_gap": null,
       "grid_row": null,
       "grid_template_areas": null,
       "grid_template_columns": null,
       "grid_template_rows": null,
       "height": null,
       "justify_content": null,
       "justify_items": null,
       "left": null,
       "margin": null,
       "max_height": null,
       "max_width": null,
       "min_height": null,
       "min_width": null,
       "object_fit": null,
       "object_position": null,
       "order": null,
       "overflow": null,
       "overflow_x": null,
       "overflow_y": null,
       "padding": null,
       "right": null,
       "top": null,
       "visibility": null,
       "width": null
      }
     },
     "9c06eb53ec484848b65a148d98ef6990": {
      "model_module": "@jupyter-widgets/base",
      "model_module_version": "1.2.0",
      "model_name": "LayoutModel",
      "state": {
       "_model_module": "@jupyter-widgets/base",
       "_model_module_version": "1.2.0",
       "_model_name": "LayoutModel",
       "_view_count": null,
       "_view_module": "@jupyter-widgets/base",
       "_view_module_version": "1.2.0",
       "_view_name": "LayoutView",
       "align_content": null,
       "align_items": null,
       "align_self": null,
       "border": null,
       "bottom": null,
       "display": null,
       "flex": null,
       "flex_flow": null,
       "grid_area": null,
       "grid_auto_columns": null,
       "grid_auto_flow": null,
       "grid_auto_rows": null,
       "grid_column": null,
       "grid_gap": null,
       "grid_row": null,
       "grid_template_areas": null,
       "grid_template_columns": null,
       "grid_template_rows": null,
       "height": null,
       "justify_content": null,
       "justify_items": null,
       "left": null,
       "margin": null,
       "max_height": null,
       "max_width": null,
       "min_height": null,
       "min_width": null,
       "object_fit": null,
       "object_position": null,
       "order": null,
       "overflow": null,
       "overflow_x": null,
       "overflow_y": null,
       "padding": null,
       "right": null,
       "top": null,
       "visibility": null,
       "width": null
      }
     },
     "a0fde70fbb4544ecb1e2965164511acf": {
      "model_module": "@jupyter-widgets/base",
      "model_module_version": "1.2.0",
      "model_name": "LayoutModel",
      "state": {
       "_model_module": "@jupyter-widgets/base",
       "_model_module_version": "1.2.0",
       "_model_name": "LayoutModel",
       "_view_count": null,
       "_view_module": "@jupyter-widgets/base",
       "_view_module_version": "1.2.0",
       "_view_name": "LayoutView",
       "align_content": null,
       "align_items": null,
       "align_self": null,
       "border": null,
       "bottom": null,
       "display": null,
       "flex": null,
       "flex_flow": null,
       "grid_area": null,
       "grid_auto_columns": null,
       "grid_auto_flow": null,
       "grid_auto_rows": null,
       "grid_column": null,
       "grid_gap": null,
       "grid_row": null,
       "grid_template_areas": null,
       "grid_template_columns": null,
       "grid_template_rows": null,
       "height": null,
       "justify_content": null,
       "justify_items": null,
       "left": null,
       "margin": null,
       "max_height": null,
       "max_width": null,
       "min_height": null,
       "min_width": null,
       "object_fit": null,
       "object_position": null,
       "order": null,
       "overflow": null,
       "overflow_x": null,
       "overflow_y": null,
       "padding": null,
       "right": null,
       "top": null,
       "visibility": null,
       "width": null
      }
     },
     "ad44f5ed9a294cd5b919575229c66068": {
      "model_module": "@jupyter-widgets/controls",
      "model_module_version": "1.5.0",
      "model_name": "HTMLModel",
      "state": {
       "_dom_classes": [],
       "_model_module": "@jupyter-widgets/controls",
       "_model_module_version": "1.5.0",
       "_model_name": "HTMLModel",
       "_view_count": null,
       "_view_module": "@jupyter-widgets/controls",
       "_view_module_version": "1.5.0",
       "_view_name": "HTMLView",
       "description": "",
       "description_tooltip": null,
       "layout": "IPY_MODEL_9c06eb53ec484848b65a148d98ef6990",
       "placeholder": "​",
       "style": "IPY_MODEL_de4852af7bdc4148b8811848c834e838",
       "value": " 45.5M/45.5M [00:01&lt;00:00, 41.9MB/s]"
      }
     },
     "b4c71c2862224691929489ae74e80103": {
      "model_module": "@jupyter-widgets/base",
      "model_module_version": "1.2.0",
      "model_name": "LayoutModel",
      "state": {
       "_model_module": "@jupyter-widgets/base",
       "_model_module_version": "1.2.0",
       "_model_name": "LayoutModel",
       "_view_count": null,
       "_view_module": "@jupyter-widgets/base",
       "_view_module_version": "1.2.0",
       "_view_name": "LayoutView",
       "align_content": null,
       "align_items": null,
       "align_self": null,
       "border": null,
       "bottom": null,
       "display": null,
       "flex": null,
       "flex_flow": null,
       "grid_area": null,
       "grid_auto_columns": null,
       "grid_auto_flow": null,
       "grid_auto_rows": null,
       "grid_column": null,
       "grid_gap": null,
       "grid_row": null,
       "grid_template_areas": null,
       "grid_template_columns": null,
       "grid_template_rows": null,
       "height": null,
       "justify_content": null,
       "justify_items": null,
       "left": null,
       "margin": null,
       "max_height": null,
       "max_width": null,
       "min_height": null,
       "min_width": null,
       "object_fit": null,
       "object_position": null,
       "order": null,
       "overflow": null,
       "overflow_x": null,
       "overflow_y": null,
       "padding": null,
       "right": null,
       "top": null,
       "visibility": null,
       "width": null
      }
     },
     "b9b7c7a33b8f4be89a80ca706c8e96a6": {
      "model_module": "@jupyter-widgets/controls",
      "model_module_version": "1.5.0",
      "model_name": "HTMLModel",
      "state": {
       "_dom_classes": [],
       "_model_module": "@jupyter-widgets/controls",
       "_model_module_version": "1.5.0",
       "_model_name": "HTMLModel",
       "_view_count": null,
       "_view_module": "@jupyter-widgets/controls",
       "_view_module_version": "1.5.0",
       "_view_name": "HTMLView",
       "description": "",
       "description_tooltip": null,
       "layout": "IPY_MODEL_c26c1ffac4174abebcbcd20cef6cc1a9",
       "placeholder": "​",
       "style": "IPY_MODEL_8346bdbc05074047b8dcef3242d09f8b",
       "value": " 704/704 [00:00&lt;00:00, 59.4kB/s]"
      }
     },
     "bada64c453584a74a351479cd5de218b": {
      "model_module": "@jupyter-widgets/base",
      "model_module_version": "1.2.0",
      "model_name": "LayoutModel",
      "state": {
       "_model_module": "@jupyter-widgets/base",
       "_model_module_version": "1.2.0",
       "_model_name": "LayoutModel",
       "_view_count": null,
       "_view_module": "@jupyter-widgets/base",
       "_view_module_version": "1.2.0",
       "_view_name": "LayoutView",
       "align_content": null,
       "align_items": null,
       "align_self": null,
       "border": null,
       "bottom": null,
       "display": null,
       "flex": null,
       "flex_flow": null,
       "grid_area": null,
       "grid_auto_columns": null,
       "grid_auto_flow": null,
       "grid_auto_rows": null,
       "grid_column": null,
       "grid_gap": null,
       "grid_row": null,
       "grid_template_areas": null,
       "grid_template_columns": null,
       "grid_template_rows": null,
       "height": null,
       "justify_content": null,
       "justify_items": null,
       "left": null,
       "margin": null,
       "max_height": null,
       "max_width": null,
       "min_height": null,
       "min_width": null,
       "object_fit": null,
       "object_position": null,
       "order": null,
       "overflow": null,
       "overflow_x": null,
       "overflow_y": null,
       "padding": null,
       "right": null,
       "top": null,
       "visibility": null,
       "width": null
      }
     },
     "c26c1ffac4174abebcbcd20cef6cc1a9": {
      "model_module": "@jupyter-widgets/base",
      "model_module_version": "1.2.0",
      "model_name": "LayoutModel",
      "state": {
       "_model_module": "@jupyter-widgets/base",
       "_model_module_version": "1.2.0",
       "_model_name": "LayoutModel",
       "_view_count": null,
       "_view_module": "@jupyter-widgets/base",
       "_view_module_version": "1.2.0",
       "_view_name": "LayoutView",
       "align_content": null,
       "align_items": null,
       "align_self": null,
       "border": null,
       "bottom": null,
       "display": null,
       "flex": null,
       "flex_flow": null,
       "grid_area": null,
       "grid_auto_columns": null,
       "grid_auto_flow": null,
       "grid_auto_rows": null,
       "grid_column": null,
       "grid_gap": null,
       "grid_row": null,
       "grid_template_areas": null,
       "grid_template_columns": null,
       "grid_template_rows": null,
       "height": null,
       "justify_content": null,
       "justify_items": null,
       "left": null,
       "margin": null,
       "max_height": null,
       "max_width": null,
       "min_height": null,
       "min_width": null,
       "object_fit": null,
       "object_position": null,
       "order": null,
       "overflow": null,
       "overflow_x": null,
       "overflow_y": null,
       "padding": null,
       "right": null,
       "top": null,
       "visibility": null,
       "width": null
      }
     },
     "c3d4723f9fd3451d989b69fc686418e4": {
      "model_module": "@jupyter-widgets/base",
      "model_module_version": "1.2.0",
      "model_name": "LayoutModel",
      "state": {
       "_model_module": "@jupyter-widgets/base",
       "_model_module_version": "1.2.0",
       "_model_name": "LayoutModel",
       "_view_count": null,
       "_view_module": "@jupyter-widgets/base",
       "_view_module_version": "1.2.0",
       "_view_name": "LayoutView",
       "align_content": null,
       "align_items": null,
       "align_self": null,
       "border": null,
       "bottom": null,
       "display": null,
       "flex": null,
       "flex_flow": null,
       "grid_area": null,
       "grid_auto_columns": null,
       "grid_auto_flow": null,
       "grid_auto_rows": null,
       "grid_column": null,
       "grid_gap": null,
       "grid_row": null,
       "grid_template_areas": null,
       "grid_template_columns": null,
       "grid_template_rows": null,
       "height": null,
       "justify_content": null,
       "justify_items": null,
       "left": null,
       "margin": null,
       "max_height": null,
       "max_width": null,
       "min_height": null,
       "min_width": null,
       "object_fit": null,
       "object_position": null,
       "order": null,
       "overflow": null,
       "overflow_x": null,
       "overflow_y": null,
       "padding": null,
       "right": null,
       "top": null,
       "visibility": null,
       "width": null
      }
     },
     "d322727d3c7248f4a9fb5f60a0518088": {
      "model_module": "@jupyter-widgets/base",
      "model_module_version": "1.2.0",
      "model_name": "LayoutModel",
      "state": {
       "_model_module": "@jupyter-widgets/base",
       "_model_module_version": "1.2.0",
       "_model_name": "LayoutModel",
       "_view_count": null,
       "_view_module": "@jupyter-widgets/base",
       "_view_module_version": "1.2.0",
       "_view_name": "LayoutView",
       "align_content": null,
       "align_items": null,
       "align_self": null,
       "border": null,
       "bottom": null,
       "display": null,
       "flex": null,
       "flex_flow": null,
       "grid_area": null,
       "grid_auto_columns": null,
       "grid_auto_flow": null,
       "grid_auto_rows": null,
       "grid_column": null,
       "grid_gap": null,
       "grid_row": null,
       "grid_template_areas": null,
       "grid_template_columns": null,
       "grid_template_rows": null,
       "height": null,
       "justify_content": null,
       "justify_items": null,
       "left": null,
       "margin": null,
       "max_height": null,
       "max_width": null,
       "min_height": null,
       "min_width": null,
       "object_fit": null,
       "object_position": null,
       "order": null,
       "overflow": null,
       "overflow_x": null,
       "overflow_y": null,
       "padding": null,
       "right": null,
       "top": null,
       "visibility": null,
       "width": null
      }
     },
     "de4852af7bdc4148b8811848c834e838": {
      "model_module": "@jupyter-widgets/controls",
      "model_module_version": "1.5.0",
      "model_name": "DescriptionStyleModel",
      "state": {
       "_model_module": "@jupyter-widgets/controls",
       "_model_module_version": "1.5.0",
       "_model_name": "DescriptionStyleModel",
       "_view_count": null,
       "_view_module": "@jupyter-widgets/base",
       "_view_module_version": "1.2.0",
       "_view_name": "StyleView",
       "description_width": ""
      }
     },
     "e2735884984c4959abd1404029ba0cdd": {
      "model_module": "@jupyter-widgets/controls",
      "model_module_version": "1.5.0",
      "model_name": "DescriptionStyleModel",
      "state": {
       "_model_module": "@jupyter-widgets/controls",
       "_model_module_version": "1.5.0",
       "_model_name": "DescriptionStyleModel",
       "_view_count": null,
       "_view_module": "@jupyter-widgets/base",
       "_view_module_version": "1.2.0",
       "_view_name": "StyleView",
       "description_width": ""
      }
     },
     "e43a47aecc9e41daa32e8d1d42b7a397": {
      "model_module": "@jupyter-widgets/base",
      "model_module_version": "1.2.0",
      "model_name": "LayoutModel",
      "state": {
       "_model_module": "@jupyter-widgets/base",
       "_model_module_version": "1.2.0",
       "_model_name": "LayoutModel",
       "_view_count": null,
       "_view_module": "@jupyter-widgets/base",
       "_view_module_version": "1.2.0",
       "_view_name": "LayoutView",
       "align_content": null,
       "align_items": null,
       "align_self": null,
       "border": null,
       "bottom": null,
       "display": null,
       "flex": null,
       "flex_flow": null,
       "grid_area": null,
       "grid_auto_columns": null,
       "grid_auto_flow": null,
       "grid_auto_rows": null,
       "grid_column": null,
       "grid_gap": null,
       "grid_row": null,
       "grid_template_areas": null,
       "grid_template_columns": null,
       "grid_template_rows": null,
       "height": null,
       "justify_content": null,
       "justify_items": null,
       "left": null,
       "margin": null,
       "max_height": null,
       "max_width": null,
       "min_height": null,
       "min_width": null,
       "object_fit": null,
       "object_position": null,
       "order": null,
       "overflow": null,
       "overflow_x": null,
       "overflow_y": null,
       "padding": null,
       "right": null,
       "top": null,
       "visibility": null,
       "width": null
      }
     },
     "e6d0066c474141ca858833b1d79cf967": {
      "model_module": "@jupyter-widgets/base",
      "model_module_version": "1.2.0",
      "model_name": "LayoutModel",
      "state": {
       "_model_module": "@jupyter-widgets/base",
       "_model_module_version": "1.2.0",
       "_model_name": "LayoutModel",
       "_view_count": null,
       "_view_module": "@jupyter-widgets/base",
       "_view_module_version": "1.2.0",
       "_view_name": "LayoutView",
       "align_content": null,
       "align_items": null,
       "align_self": null,
       "border": null,
       "bottom": null,
       "display": null,
       "flex": null,
       "flex_flow": null,
       "grid_area": null,
       "grid_auto_columns": null,
       "grid_auto_flow": null,
       "grid_auto_rows": null,
       "grid_column": null,
       "grid_gap": null,
       "grid_row": null,
       "grid_template_areas": null,
       "grid_template_columns": null,
       "grid_template_rows": null,
       "height": null,
       "justify_content": null,
       "justify_items": null,
       "left": null,
       "margin": null,
       "max_height": null,
       "max_width": null,
       "min_height": null,
       "min_width": null,
       "object_fit": null,
       "object_position": null,
       "order": null,
       "overflow": null,
       "overflow_x": null,
       "overflow_y": null,
       "padding": null,
       "right": null,
       "top": null,
       "visibility": null,
       "width": null
      }
     },
     "ea4dc5db34f2479b914926a13c334210": {
      "model_module": "@jupyter-widgets/controls",
      "model_module_version": "1.5.0",
      "model_name": "ProgressStyleModel",
      "state": {
       "_model_module": "@jupyter-widgets/controls",
       "_model_module_version": "1.5.0",
       "_model_name": "ProgressStyleModel",
       "_view_count": null,
       "_view_module": "@jupyter-widgets/base",
       "_view_module_version": "1.2.0",
       "_view_name": "StyleView",
       "bar_color": null,
       "description_width": ""
      }
     },
     "f0ab0b744c864a2aa4fcb3dfc5d2aa7a": {
      "model_module": "@jupyter-widgets/controls",
      "model_module_version": "1.5.0",
      "model_name": "HTMLModel",
      "state": {
       "_dom_classes": [],
       "_model_module": "@jupyter-widgets/controls",
       "_model_module_version": "1.5.0",
       "_model_name": "HTMLModel",
       "_view_count": null,
       "_view_module": "@jupyter-widgets/controls",
       "_view_module_version": "1.5.0",
       "_view_name": "HTMLView",
       "description": "",
       "description_tooltip": null,
       "layout": "IPY_MODEL_983f7da0e73e4843941adb1d428b5a03",
       "placeholder": "​",
       "style": "IPY_MODEL_39ba08c9e73841729556b18be6670009",
       "value": "Map: 100%"
      }
     },
     "f56a60b44ae14e8e8a3e2132ce4eb48c": {
      "model_module": "@jupyter-widgets/base",
      "model_module_version": "1.2.0",
      "model_name": "LayoutModel",
      "state": {
       "_model_module": "@jupyter-widgets/base",
       "_model_module_version": "1.2.0",
       "_model_name": "LayoutModel",
       "_view_count": null,
       "_view_module": "@jupyter-widgets/base",
       "_view_module_version": "1.2.0",
       "_view_name": "LayoutView",
       "align_content": null,
       "align_items": null,
       "align_self": null,
       "border": null,
       "bottom": null,
       "display": null,
       "flex": null,
       "flex_flow": null,
       "grid_area": null,
       "grid_auto_columns": null,
       "grid_auto_flow": null,
       "grid_auto_rows": null,
       "grid_column": null,
       "grid_gap": null,
       "grid_row": null,
       "grid_template_areas": null,
       "grid_template_columns": null,
       "grid_template_rows": null,
       "height": null,
       "justify_content": null,
       "justify_items": null,
       "left": null,
       "margin": null,
       "max_height": null,
       "max_width": null,
       "min_height": null,
       "min_width": null,
       "object_fit": null,
       "object_position": null,
       "order": null,
       "overflow": null,
       "overflow_x": null,
       "overflow_y": null,
       "padding": null,
       "right": null,
       "top": null,
       "visibility": null,
       "width": null
      }
     },
     "fc8bbea51efe442cb15f9a87f7db7915": {
      "model_module": "@jupyter-widgets/base",
      "model_module_version": "1.2.0",
      "model_name": "LayoutModel",
      "state": {
       "_model_module": "@jupyter-widgets/base",
       "_model_module_version": "1.2.0",
       "_model_name": "LayoutModel",
       "_view_count": null,
       "_view_module": "@jupyter-widgets/base",
       "_view_module_version": "1.2.0",
       "_view_name": "LayoutView",
       "align_content": null,
       "align_items": null,
       "align_self": null,
       "border": null,
       "bottom": null,
       "display": null,
       "flex": null,
       "flex_flow": null,
       "grid_area": null,
       "grid_auto_columns": null,
       "grid_auto_flow": null,
       "grid_auto_rows": null,
       "grid_column": null,
       "grid_gap": null,
       "grid_row": null,
       "grid_template_areas": null,
       "grid_template_columns": null,
       "grid_template_rows": null,
       "height": null,
       "justify_content": null,
       "justify_items": null,
       "left": null,
       "margin": null,
       "max_height": null,
       "max_width": null,
       "min_height": null,
       "min_width": null,
       "object_fit": null,
       "object_position": null,
       "order": null,
       "overflow": null,
       "overflow_x": null,
       "overflow_y": null,
       "padding": null,
       "right": null,
       "top": null,
       "visibility": null,
       "width": null
      }
     },
     "ffb4c075ea874144b6df6bb752306b9a": {
      "model_module": "@jupyter-widgets/controls",
      "model_module_version": "1.5.0",
      "model_name": "HTMLModel",
      "state": {
       "_dom_classes": [],
       "_model_module": "@jupyter-widgets/controls",
       "_model_module_version": "1.5.0",
       "_model_name": "HTMLModel",
       "_view_count": null,
       "_view_module": "@jupyter-widgets/controls",
       "_view_module_version": "1.5.0",
       "_view_name": "HTMLView",
       "description": "",
       "description_tooltip": null,
       "layout": "IPY_MODEL_bada64c453584a74a351479cd5de218b",
       "placeholder": "​",
       "style": "IPY_MODEL_1344c271e9fb49a28ac4aed619704843",
       "value": "adapter_model.safetensors: 100%"
      }
     },
     "ffff395c80534a59813ecd7fdd0b9204": {
      "model_module": "@jupyter-widgets/controls",
      "model_module_version": "1.5.0",
      "model_name": "FloatProgressModel",
      "state": {
       "_dom_classes": [],
       "_model_module": "@jupyter-widgets/controls",
       "_model_module_version": "1.5.0",
       "_model_name": "FloatProgressModel",
       "_view_count": null,
       "_view_module": "@jupyter-widgets/controls",
       "_view_module_version": "1.5.0",
       "_view_name": "ProgressView",
       "bar_style": "success",
       "description": "",
       "description_tooltip": null,
       "layout": "IPY_MODEL_986763851eab41e58a2586191d057bc2",
       "max": 27480.0,
       "min": 0.0,
       "orientation": "horizontal",
       "style": "IPY_MODEL_980c2f8b855347bfb6ccb97bcd2a9ece",
       "value": 27480.0
      }
     }
    },
    "version_major": 2,
    "version_minor": 0
   }
  }
 },
 "nbformat": 4,
 "nbformat_minor": 5
}
